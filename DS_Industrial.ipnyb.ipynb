{
 "cells": [
  {
   "cell_type": "markdown",
   "metadata": {},
   "source": [
    "#### importing necessary model"
   ]
  },
  {
   "cell_type": "code",
   "execution_count": 158,
   "metadata": {},
   "outputs": [],
   "source": [
    "\n",
    "import warnings\n",
    "warnings.filterwarnings(\"ignore\")\n",
    "import pandas as pd\n",
    "import numpy as np\n",
    "import matplotlib.pyplot as plt\n",
    "import seaborn as sns \n"
   ]
  },
  {
   "cell_type": "code",
   "execution_count": 159,
   "metadata": {},
   "outputs": [],
   "source": [
    "data = pd.read_csv(\"D:\\machine learning\\Copper_Set.csv\")"
   ]
  },
  {
   "cell_type": "code",
   "execution_count": 160,
   "metadata": {},
   "outputs": [
    {
     "data": {
      "text/html": [
       "<div>\n",
       "<style scoped>\n",
       "    .dataframe tbody tr th:only-of-type {\n",
       "        vertical-align: middle;\n",
       "    }\n",
       "\n",
       "    .dataframe tbody tr th {\n",
       "        vertical-align: top;\n",
       "    }\n",
       "\n",
       "    .dataframe thead th {\n",
       "        text-align: right;\n",
       "    }\n",
       "</style>\n",
       "<table border=\"1\" class=\"dataframe\">\n",
       "  <thead>\n",
       "    <tr style=\"text-align: right;\">\n",
       "      <th></th>\n",
       "      <th>id</th>\n",
       "      <th>item_date</th>\n",
       "      <th>quantity tons</th>\n",
       "      <th>customer</th>\n",
       "      <th>country</th>\n",
       "      <th>status</th>\n",
       "      <th>item type</th>\n",
       "      <th>application</th>\n",
       "      <th>thickness</th>\n",
       "      <th>width</th>\n",
       "      <th>material_ref</th>\n",
       "      <th>product_ref</th>\n",
       "      <th>delivery date</th>\n",
       "      <th>selling_price</th>\n",
       "    </tr>\n",
       "  </thead>\n",
       "  <tbody>\n",
       "    <tr>\n",
       "      <th>0</th>\n",
       "      <td>EC06F063-9DF0-440C-8764-0B0C05A4F6AE</td>\n",
       "      <td>20210401.0</td>\n",
       "      <td>54.151139</td>\n",
       "      <td>30156308.0</td>\n",
       "      <td>28.0</td>\n",
       "      <td>Won</td>\n",
       "      <td>W</td>\n",
       "      <td>10.0</td>\n",
       "      <td>2.00</td>\n",
       "      <td>1500.0</td>\n",
       "      <td>DEQ1 S460MC</td>\n",
       "      <td>1670798778</td>\n",
       "      <td>20210701.0</td>\n",
       "      <td>854.00</td>\n",
       "    </tr>\n",
       "    <tr>\n",
       "      <th>1</th>\n",
       "      <td>4E5F4B3D-DDDF-499D-AFDE-A3227EC49425</td>\n",
       "      <td>20210401.0</td>\n",
       "      <td>768.024839</td>\n",
       "      <td>30202938.0</td>\n",
       "      <td>25.0</td>\n",
       "      <td>Won</td>\n",
       "      <td>W</td>\n",
       "      <td>41.0</td>\n",
       "      <td>0.80</td>\n",
       "      <td>1210.0</td>\n",
       "      <td>0000000000000000000000000000000000104991</td>\n",
       "      <td>1668701718</td>\n",
       "      <td>20210401.0</td>\n",
       "      <td>1047.00</td>\n",
       "    </tr>\n",
       "    <tr>\n",
       "      <th>2</th>\n",
       "      <td>E140FF1B-2407-4C02-A0DD-780A093B1158</td>\n",
       "      <td>20210401.0</td>\n",
       "      <td>386.127949</td>\n",
       "      <td>30153963.0</td>\n",
       "      <td>30.0</td>\n",
       "      <td>Won</td>\n",
       "      <td>WI</td>\n",
       "      <td>28.0</td>\n",
       "      <td>0.38</td>\n",
       "      <td>952.0</td>\n",
       "      <td>S0380700</td>\n",
       "      <td>628377</td>\n",
       "      <td>20210101.0</td>\n",
       "      <td>644.33</td>\n",
       "    </tr>\n",
       "    <tr>\n",
       "      <th>3</th>\n",
       "      <td>F8D507A0-9C62-4EFE-831E-33E1DA53BB50</td>\n",
       "      <td>20210401.0</td>\n",
       "      <td>202.411065</td>\n",
       "      <td>30349574.0</td>\n",
       "      <td>32.0</td>\n",
       "      <td>Won</td>\n",
       "      <td>S</td>\n",
       "      <td>59.0</td>\n",
       "      <td>2.30</td>\n",
       "      <td>1317.0</td>\n",
       "      <td>DX51D+ZM310MAO 2.3X1317</td>\n",
       "      <td>1668701718</td>\n",
       "      <td>20210101.0</td>\n",
       "      <td>768.00</td>\n",
       "    </tr>\n",
       "    <tr>\n",
       "      <th>4</th>\n",
       "      <td>4E1C4E78-152B-430A-8094-ADD889C9D0AD</td>\n",
       "      <td>20210401.0</td>\n",
       "      <td>785.526262</td>\n",
       "      <td>30211560.0</td>\n",
       "      <td>28.0</td>\n",
       "      <td>Won</td>\n",
       "      <td>W</td>\n",
       "      <td>10.0</td>\n",
       "      <td>4.00</td>\n",
       "      <td>2000.0</td>\n",
       "      <td>2_S275JR+AR-CL1</td>\n",
       "      <td>640665</td>\n",
       "      <td>20210301.0</td>\n",
       "      <td>577.00</td>\n",
       "    </tr>\n",
       "  </tbody>\n",
       "</table>\n",
       "</div>"
      ],
      "text/plain": [
       "                                     id   item_date quantity tons    customer  \\\n",
       "0  EC06F063-9DF0-440C-8764-0B0C05A4F6AE  20210401.0     54.151139  30156308.0   \n",
       "1  4E5F4B3D-DDDF-499D-AFDE-A3227EC49425  20210401.0    768.024839  30202938.0   \n",
       "2  E140FF1B-2407-4C02-A0DD-780A093B1158  20210401.0    386.127949  30153963.0   \n",
       "3  F8D507A0-9C62-4EFE-831E-33E1DA53BB50  20210401.0    202.411065  30349574.0   \n",
       "4  4E1C4E78-152B-430A-8094-ADD889C9D0AD  20210401.0    785.526262  30211560.0   \n",
       "\n",
       "   country status item type  application  thickness   width  \\\n",
       "0     28.0    Won         W         10.0       2.00  1500.0   \n",
       "1     25.0    Won         W         41.0       0.80  1210.0   \n",
       "2     30.0    Won        WI         28.0       0.38   952.0   \n",
       "3     32.0    Won         S         59.0       2.30  1317.0   \n",
       "4     28.0    Won         W         10.0       4.00  2000.0   \n",
       "\n",
       "                               material_ref  product_ref  delivery date  \\\n",
       "0                               DEQ1 S460MC   1670798778     20210701.0   \n",
       "1  0000000000000000000000000000000000104991   1668701718     20210401.0   \n",
       "2                                  S0380700       628377     20210101.0   \n",
       "3                   DX51D+ZM310MAO 2.3X1317   1668701718     20210101.0   \n",
       "4                           2_S275JR+AR-CL1       640665     20210301.0   \n",
       "\n",
       "   selling_price  \n",
       "0         854.00  \n",
       "1        1047.00  \n",
       "2         644.33  \n",
       "3         768.00  \n",
       "4         577.00  "
      ]
     },
     "execution_count": 160,
     "metadata": {},
     "output_type": "execute_result"
    }
   ],
   "source": [
    "data.head()"
   ]
  },
  {
   "cell_type": "code",
   "execution_count": 161,
   "metadata": {},
   "outputs": [
    {
     "data": {
      "text/plain": [
       "Index(['id', 'item_date', 'quantity tons', 'customer', 'country', 'status',\n",
       "       'item type', 'application', 'thickness', 'width', 'material_ref',\n",
       "       'product_ref', 'delivery date', 'selling_price'],\n",
       "      dtype='object')"
      ]
     },
     "execution_count": 161,
     "metadata": {},
     "output_type": "execute_result"
    }
   ],
   "source": [
    "data.columns"
   ]
  },
  {
   "cell_type": "code",
   "execution_count": 162,
   "metadata": {},
   "outputs": [
    {
     "data": {
      "text/plain": [
       "id                   2\n",
       "item_date            1\n",
       "quantity tons        0\n",
       "customer             1\n",
       "country             28\n",
       "status               2\n",
       "item type            0\n",
       "application         24\n",
       "thickness            1\n",
       "width                0\n",
       "material_ref     77919\n",
       "product_ref          0\n",
       "delivery date        1\n",
       "selling_price        1\n",
       "dtype: int64"
      ]
     },
     "execution_count": 162,
     "metadata": {},
     "output_type": "execute_result"
    }
   ],
   "source": [
    "data.isnull().sum()"
   ]
  },
  {
   "cell_type": "code",
   "execution_count": 163,
   "metadata": {},
   "outputs": [
    {
     "data": {
      "text/plain": [
       "(181673, 14)"
      ]
     },
     "execution_count": 163,
     "metadata": {},
     "output_type": "execute_result"
    }
   ],
   "source": [
    "data.shape"
   ]
  },
  {
   "cell_type": "code",
   "execution_count": 164,
   "metadata": {},
   "outputs": [
    {
     "name": "stdout",
     "output_type": "stream",
     "text": [
      "<class 'pandas.core.frame.DataFrame'>\n",
      "RangeIndex: 181673 entries, 0 to 181672\n",
      "Data columns (total 14 columns):\n",
      " #   Column         Non-Null Count   Dtype  \n",
      "---  ------         --------------   -----  \n",
      " 0   id             181671 non-null  object \n",
      " 1   item_date      181672 non-null  float64\n",
      " 2   quantity tons  181673 non-null  object \n",
      " 3   customer       181672 non-null  float64\n",
      " 4   country        181645 non-null  float64\n",
      " 5   status         181671 non-null  object \n",
      " 6   item type      181673 non-null  object \n",
      " 7   application    181649 non-null  float64\n",
      " 8   thickness      181672 non-null  float64\n",
      " 9   width          181673 non-null  float64\n",
      " 10  material_ref   103754 non-null  object \n",
      " 11  product_ref    181673 non-null  int64  \n",
      " 12  delivery date  181672 non-null  float64\n",
      " 13  selling_price  181672 non-null  float64\n",
      "dtypes: float64(8), int64(1), object(5)\n",
      "memory usage: 19.4+ MB\n"
     ]
    }
   ],
   "source": [
    "data.info()"
   ]
  },
  {
   "cell_type": "markdown",
   "metadata": {},
   "source": [
    "### Delling with the wrong fromat data"
   ]
  },
  {
   "cell_type": "code",
   "execution_count": 165,
   "metadata": {},
   "outputs": [],
   "source": [
    "\n",
    "\n",
    "data[\"item_date\"] = pd.to_datetime(data[\"item_date\"], format='%Y%m%d',errors='coerce').dt.date\n",
    "data[\"quantity tons\"] = pd.to_numeric(data[\"quantity tons\"] ,errors='coerce')\n",
    "data[\"customer\"] = pd.to_numeric(data[\"customer\"], errors=\"coerce\")\n",
    "data[\"country\"] = pd.to_numeric(data[\"country\"] , errors=\"coerce\")\n",
    "data[\"application\"] = pd.to_numeric(data[\"application\"],errors=\"coerce\")\n",
    "data[\"thickness\"] = pd.to_numeric(data[\"thickness\"] ,errors=\"coerce\")\n",
    "data[\"width\"] = pd.to_numeric(data[\"width\"],errors=\"coerce\")\n",
    "data['material_ref'] = data['material_ref'].str.lstrip('0')\n",
    "data[\"product_ref\"] = pd.to_numeric(data[\"product_ref\"],errors=\"coerce\")\n",
    "data['delivery date'] = pd.to_datetime(data['delivery date'], format='%Y%m%d', errors='coerce').dt.date\n",
    "data[\"selling_price\"] = pd.to_numeric(data[\"selling_price\"] ,errors=\"coerce\")"
   ]
  },
  {
   "cell_type": "code",
   "execution_count": 166,
   "metadata": {},
   "outputs": [
    {
     "data": {
      "text/html": [
       "<div>\n",
       "<style scoped>\n",
       "    .dataframe tbody tr th:only-of-type {\n",
       "        vertical-align: middle;\n",
       "    }\n",
       "\n",
       "    .dataframe tbody tr th {\n",
       "        vertical-align: top;\n",
       "    }\n",
       "\n",
       "    .dataframe thead th {\n",
       "        text-align: right;\n",
       "    }\n",
       "</style>\n",
       "<table border=\"1\" class=\"dataframe\">\n",
       "  <thead>\n",
       "    <tr style=\"text-align: right;\">\n",
       "      <th></th>\n",
       "      <th>id</th>\n",
       "      <th>item_date</th>\n",
       "      <th>quantity tons</th>\n",
       "      <th>customer</th>\n",
       "      <th>country</th>\n",
       "      <th>status</th>\n",
       "      <th>item type</th>\n",
       "      <th>application</th>\n",
       "      <th>thickness</th>\n",
       "      <th>width</th>\n",
       "      <th>material_ref</th>\n",
       "      <th>product_ref</th>\n",
       "      <th>delivery date</th>\n",
       "      <th>selling_price</th>\n",
       "    </tr>\n",
       "  </thead>\n",
       "  <tbody>\n",
       "    <tr>\n",
       "      <th>0</th>\n",
       "      <td>EC06F063-9DF0-440C-8764-0B0C05A4F6AE</td>\n",
       "      <td>2021-04-01</td>\n",
       "      <td>54.151139</td>\n",
       "      <td>30156308.0</td>\n",
       "      <td>28.0</td>\n",
       "      <td>Won</td>\n",
       "      <td>W</td>\n",
       "      <td>10.0</td>\n",
       "      <td>2.00</td>\n",
       "      <td>1500.0</td>\n",
       "      <td>DEQ1 S460MC</td>\n",
       "      <td>1670798778</td>\n",
       "      <td>2021-07-01</td>\n",
       "      <td>854.00</td>\n",
       "    </tr>\n",
       "    <tr>\n",
       "      <th>1</th>\n",
       "      <td>4E5F4B3D-DDDF-499D-AFDE-A3227EC49425</td>\n",
       "      <td>2021-04-01</td>\n",
       "      <td>768.024839</td>\n",
       "      <td>30202938.0</td>\n",
       "      <td>25.0</td>\n",
       "      <td>Won</td>\n",
       "      <td>W</td>\n",
       "      <td>41.0</td>\n",
       "      <td>0.80</td>\n",
       "      <td>1210.0</td>\n",
       "      <td>104991</td>\n",
       "      <td>1668701718</td>\n",
       "      <td>2021-04-01</td>\n",
       "      <td>1047.00</td>\n",
       "    </tr>\n",
       "    <tr>\n",
       "      <th>2</th>\n",
       "      <td>E140FF1B-2407-4C02-A0DD-780A093B1158</td>\n",
       "      <td>2021-04-01</td>\n",
       "      <td>386.127949</td>\n",
       "      <td>30153963.0</td>\n",
       "      <td>30.0</td>\n",
       "      <td>Won</td>\n",
       "      <td>WI</td>\n",
       "      <td>28.0</td>\n",
       "      <td>0.38</td>\n",
       "      <td>952.0</td>\n",
       "      <td>S0380700</td>\n",
       "      <td>628377</td>\n",
       "      <td>2021-01-01</td>\n",
       "      <td>644.33</td>\n",
       "    </tr>\n",
       "    <tr>\n",
       "      <th>3</th>\n",
       "      <td>F8D507A0-9C62-4EFE-831E-33E1DA53BB50</td>\n",
       "      <td>2021-04-01</td>\n",
       "      <td>202.411065</td>\n",
       "      <td>30349574.0</td>\n",
       "      <td>32.0</td>\n",
       "      <td>Won</td>\n",
       "      <td>S</td>\n",
       "      <td>59.0</td>\n",
       "      <td>2.30</td>\n",
       "      <td>1317.0</td>\n",
       "      <td>DX51D+ZM310MAO 2.3X1317</td>\n",
       "      <td>1668701718</td>\n",
       "      <td>2021-01-01</td>\n",
       "      <td>768.00</td>\n",
       "    </tr>\n",
       "    <tr>\n",
       "      <th>4</th>\n",
       "      <td>4E1C4E78-152B-430A-8094-ADD889C9D0AD</td>\n",
       "      <td>2021-04-01</td>\n",
       "      <td>785.526262</td>\n",
       "      <td>30211560.0</td>\n",
       "      <td>28.0</td>\n",
       "      <td>Won</td>\n",
       "      <td>W</td>\n",
       "      <td>10.0</td>\n",
       "      <td>4.00</td>\n",
       "      <td>2000.0</td>\n",
       "      <td>2_S275JR+AR-CL1</td>\n",
       "      <td>640665</td>\n",
       "      <td>2021-03-01</td>\n",
       "      <td>577.00</td>\n",
       "    </tr>\n",
       "  </tbody>\n",
       "</table>\n",
       "</div>"
      ],
      "text/plain": [
       "                                     id   item_date  quantity tons  \\\n",
       "0  EC06F063-9DF0-440C-8764-0B0C05A4F6AE  2021-04-01      54.151139   \n",
       "1  4E5F4B3D-DDDF-499D-AFDE-A3227EC49425  2021-04-01     768.024839   \n",
       "2  E140FF1B-2407-4C02-A0DD-780A093B1158  2021-04-01     386.127949   \n",
       "3  F8D507A0-9C62-4EFE-831E-33E1DA53BB50  2021-04-01     202.411065   \n",
       "4  4E1C4E78-152B-430A-8094-ADD889C9D0AD  2021-04-01     785.526262   \n",
       "\n",
       "     customer  country status item type  application  thickness   width  \\\n",
       "0  30156308.0     28.0    Won         W         10.0       2.00  1500.0   \n",
       "1  30202938.0     25.0    Won         W         41.0       0.80  1210.0   \n",
       "2  30153963.0     30.0    Won        WI         28.0       0.38   952.0   \n",
       "3  30349574.0     32.0    Won         S         59.0       2.30  1317.0   \n",
       "4  30211560.0     28.0    Won         W         10.0       4.00  2000.0   \n",
       "\n",
       "              material_ref  product_ref delivery date  selling_price  \n",
       "0              DEQ1 S460MC   1670798778    2021-07-01         854.00  \n",
       "1                   104991   1668701718    2021-04-01        1047.00  \n",
       "2                 S0380700       628377    2021-01-01         644.33  \n",
       "3  DX51D+ZM310MAO 2.3X1317   1668701718    2021-01-01         768.00  \n",
       "4          2_S275JR+AR-CL1       640665    2021-03-01         577.00  "
      ]
     },
     "execution_count": 166,
     "metadata": {},
     "output_type": "execute_result"
    }
   ],
   "source": [
    "data.head()"
   ]
  },
  {
   "cell_type": "markdown",
   "metadata": {},
   "source": [
    "### Dealing with missing values"
   ]
  },
  {
   "cell_type": "code",
   "execution_count": 167,
   "metadata": {},
   "outputs": [],
   "source": [
    "# here replacing the nan values in to Unknown \n",
    "data[\"material_ref\"].replace(to_replace=np.nan, value=\"unknown\", inplace=True)\n",
    "\n",
    "# deleting the remaining null values as they are less than 1% of data which can be neglected\n",
    "data = data.dropna()\n"
   ]
  },
  {
   "cell_type": "code",
   "execution_count": 168,
   "metadata": {},
   "outputs": [
    {
     "data": {
      "text/plain": [
       "id               0\n",
       "item_date        0\n",
       "quantity tons    0\n",
       "customer         0\n",
       "country          0\n",
       "status           0\n",
       "item type        0\n",
       "application      0\n",
       "thickness        0\n",
       "width            0\n",
       "material_ref     0\n",
       "product_ref      0\n",
       "delivery date    0\n",
       "selling_price    0\n",
       "dtype: int64"
      ]
     },
     "execution_count": 168,
     "metadata": {},
     "output_type": "execute_result"
    }
   ],
   "source": [
    "data.isnull().sum()"
   ]
  },
  {
   "cell_type": "markdown",
   "metadata": {},
   "source": [
    "#### visualizing outliers and skewness"
   ]
  },
  {
   "cell_type": "code",
   "execution_count": 169,
   "metadata": {},
   "outputs": [
    {
     "data": {
      "image/png": "[encoded data removed]",
      "text/plain": [
       "<Figure size 1600x800 with 4 Axes>"
      ]
     },
     "metadata": {},
     "output_type": "display_data"
    }
   ],
   "source": [
    "plt.figure(figsize=(16,8))\n",
    "plt.subplot(2,2,1)\n",
    "sns.distplot(data['quantity tons'])\n",
    "plt.subplot(2,2,2)\n",
    "sns.violinplot(data['country'])\n",
    "plt.subplot(2,2,3)\n",
    "sns.boxplot(data[\"application\"])\n",
    "plt.subplot(2,2,4)\n",
    "sns.distplot(data['thickness'])\n",
    "plt.show()\n"
   ]
  },
  {
   "cell_type": "code",
   "execution_count": 170,
   "metadata": {},
   "outputs": [
    {
     "data": {
      "image/png": "[encoded data removed]",
      "text/plain": [
       "<Figure size 640x480 with 1 Axes>"
      ]
     },
     "metadata": {},
     "output_type": "display_data"
    },
    {
     "data": {
      "image/png": "[encoded data removed]",
      "text/plain": [
       "<Figure size 640x480 with 1 Axes>"
      ]
     },
     "metadata": {},
     "output_type": "display_data"
    }
   ],
   "source": [
    "sns.boxplot(data[\"width\"])\n",
    "plt.show()\n",
    "\n",
    "sns.distplot(data[\"selling_price\"])\n",
    "plt.show()\n"
   ]
  },
  {
   "cell_type": "code",
   "execution_count": 171,
   "metadata": {},
   "outputs": [],
   "source": [
    "df_1 = data.copy()"
   ]
  },
  {
   "cell_type": "code",
   "execution_count": 172,
   "metadata": {},
   "outputs": [
    {
     "name": "stdout",
     "output_type": "stream",
     "text": [
      "7\n",
      "4\n",
      "0\n"
     ]
    }
   ],
   "source": [
    "import numpy as np\n",
    "mask1 = df_1['selling_price'] <= 0\n",
    "print(mask1.sum())\n",
    "df_1.loc[mask1, 'selling_price'] = np.nan\n",
    "\n",
    "mask1 = df_1['quantity tons'] <= 0\n",
    "print(mask1.sum())\n",
    "df_1.loc[mask1, 'quantity tons'] = np.nan\n",
    "\n",
    "mask1 = df_1['thickness'] <= 0\n",
    "print(mask1.sum())"
   ]
  },
  {
   "cell_type": "code",
   "execution_count": 173,
   "metadata": {},
   "outputs": [
    {
     "data": {
      "text/plain": [
       "id               0\n",
       "item_date        0\n",
       "quantity tons    4\n",
       "customer         0\n",
       "country          0\n",
       "status           0\n",
       "item type        0\n",
       "application      0\n",
       "thickness        0\n",
       "width            0\n",
       "material_ref     0\n",
       "product_ref      0\n",
       "delivery date    0\n",
       "selling_price    7\n",
       "dtype: int64"
      ]
     },
     "execution_count": 173,
     "metadata": {},
     "output_type": "execute_result"
    }
   ],
   "source": [
    "df_1.isnull().sum()"
   ]
  },
  {
   "cell_type": "code",
   "execution_count": 174,
   "metadata": {},
   "outputs": [
    {
     "data": {
      "text/plain": [
       "181620"
      ]
     },
     "execution_count": 174,
     "metadata": {},
     "output_type": "execute_result"
    }
   ],
   "source": [
    "df_1.dropna(inplace=True)\n",
    "len(df_1)"
   ]
  },
  {
   "cell_type": "code",
   "execution_count": 175,
   "metadata": {},
   "outputs": [
    {
     "data": {
      "image/png": "[encoded data removed]",
      "text/plain": [
       "<Figure size 640x480 with 1 Axes>"
      ]
     },
     "metadata": {},
     "output_type": "display_data"
    },
    {
     "data": {
      "image/png": "[encoded data removed]",
      "text/plain": [
       "<Figure size 640x480 with 1 Axes>"
      ]
     },
     "metadata": {},
     "output_type": "display_data"
    },
    {
     "data": {
      "image/png": "[encoded data removed]",
      "text/plain": [
       "<Figure size 640x480 with 1 Axes>"
      ]
     },
     "metadata": {},
     "output_type": "display_data"
    }
   ],
   "source": [
    "df_1[\"selling_price_log\"] = np.log(df_1[\"selling_price\"])\n",
    "sns.distplot(df_1[\"selling_price_log\"])\n",
    "plt.show()\n",
    "\n",
    "df_1[\"quantity tons_log\"] = np.log(df_1[\"quantity tons\"])\n",
    "sns.distplot(df_1[\"quantity tons_log\"])\n",
    "plt.show()\n",
    "\n",
    "df_1[\"thickness_log\"] = np.log(df_1[\"thickness\"])\n",
    "sns.distplot(df_1[\"thickness_log\"])\n",
    "plt.show()"
   ]
  },
  {
   "cell_type": "markdown",
   "metadata": {},
   "source": [
    "#### Correlation "
   ]
  },
  {
   "cell_type": "code",
   "execution_count": 176,
   "metadata": {},
   "outputs": [
    {
     "data": {
      "text/plain": [
       "<Axes: >"
      ]
     },
     "execution_count": 176,
     "metadata": {},
     "output_type": "execute_result"
    },
    {
     "data": {
      "image/png": "[encoded data removed]",
      "text/plain": [
       "<Figure size 640x480 with 2 Axes>"
      ]
     },
     "metadata": {},
     "output_type": "display_data"
    }
   ],
   "source": [
    "x = df_1[[\"quantity tons_log\",\"customer\",\"country\",\"application\",\"width\",\"thickness_log\",\"selling_price_log\",\"product_ref\"]].corr()\n",
    "sns.heatmap(x, annot=True ,cmap='Set1')"
   ]
  },
  {
   "cell_type": "code",
   "execution_count": 177,
   "metadata": {},
   "outputs": [
    {
     "name": "stdout",
     "output_type": "stream",
     "text": [
      "Requirement already satisfied: scikit-learn in d:\\error\\ds_industrial copper modeling\\.venv\\lib\\site-packages (1.5.2)Note: you may need to restart the kernel to use updated packages.\n",
      "\n",
      "Requirement already satisfied: numpy>=1.19.5 in d:\\error\\ds_industrial copper modeling\\.venv\\lib\\site-packages (from scikit-learn) (2.1.1)\n",
      "Requirement already satisfied: scipy>=1.6.0 in d:\\error\\ds_industrial copper modeling\\.venv\\lib\\site-packages (from scikit-learn) (1.14.1)\n",
      "Requirement already satisfied: joblib>=1.2.0 in d:\\error\\ds_industrial copper modeling\\.venv\\lib\\site-packages (from scikit-learn) (1.4.2)\n",
      "Requirement already satisfied: threadpoolctl>=3.1.0 in d:\\error\\ds_industrial copper modeling\\.venv\\lib\\site-packages (from scikit-learn) (3.5.0)\n"
     ]
    },
    {
     "name": "stderr",
     "output_type": "stream",
     "text": [
      "\n",
      "[notice] A new release of pip is available: 23.2.1 -> 24.2\n",
      "[notice] To update, run: python.exe -m pip install --upgrade pip\n"
     ]
    }
   ],
   "source": [
    "pip install scikit-learn\n"
   ]
  },
  {
   "cell_type": "markdown",
   "metadata": {},
   "source": [
    "##### Regression algorithm"
   ]
  },
  {
   "cell_type": "code",
   "execution_count": 178,
   "metadata": {},
   "outputs": [
    {
     "data": {
      "text/html": [
       "<div>\n",
       "<style scoped>\n",
       "    .dataframe tbody tr th:only-of-type {\n",
       "        vertical-align: middle;\n",
       "    }\n",
       "\n",
       "    .dataframe tbody tr th {\n",
       "        vertical-align: top;\n",
       "    }\n",
       "\n",
       "    .dataframe thead th {\n",
       "        text-align: right;\n",
       "    }\n",
       "</style>\n",
       "<table border=\"1\" class=\"dataframe\">\n",
       "  <thead>\n",
       "    <tr style=\"text-align: right;\">\n",
       "      <th></th>\n",
       "      <th>id</th>\n",
       "      <th>item_date</th>\n",
       "      <th>quantity tons</th>\n",
       "      <th>customer</th>\n",
       "      <th>country</th>\n",
       "      <th>status</th>\n",
       "      <th>item type</th>\n",
       "      <th>application</th>\n",
       "      <th>thickness</th>\n",
       "      <th>width</th>\n",
       "      <th>material_ref</th>\n",
       "      <th>product_ref</th>\n",
       "      <th>delivery date</th>\n",
       "      <th>selling_price</th>\n",
       "      <th>selling_price_log</th>\n",
       "      <th>quantity tons_log</th>\n",
       "      <th>thickness_log</th>\n",
       "    </tr>\n",
       "  </thead>\n",
       "  <tbody>\n",
       "    <tr>\n",
       "      <th>0</th>\n",
       "      <td>EC06F063-9DF0-440C-8764-0B0C05A4F6AE</td>\n",
       "      <td>2021-04-01</td>\n",
       "      <td>54.151139</td>\n",
       "      <td>30156308.0</td>\n",
       "      <td>28.0</td>\n",
       "      <td>Won</td>\n",
       "      <td>W</td>\n",
       "      <td>10.0</td>\n",
       "      <td>2.0</td>\n",
       "      <td>1500.0</td>\n",
       "      <td>DEQ1 S460MC</td>\n",
       "      <td>1670798778</td>\n",
       "      <td>2021-07-01</td>\n",
       "      <td>854.0</td>\n",
       "      <td>6.749931</td>\n",
       "      <td>3.991779</td>\n",
       "      <td>0.693147</td>\n",
       "    </tr>\n",
       "    <tr>\n",
       "      <th>1</th>\n",
       "      <td>4E5F4B3D-DDDF-499D-AFDE-A3227EC49425</td>\n",
       "      <td>2021-04-01</td>\n",
       "      <td>768.024839</td>\n",
       "      <td>30202938.0</td>\n",
       "      <td>25.0</td>\n",
       "      <td>Won</td>\n",
       "      <td>W</td>\n",
       "      <td>41.0</td>\n",
       "      <td>0.8</td>\n",
       "      <td>1210.0</td>\n",
       "      <td>104991</td>\n",
       "      <td>1668701718</td>\n",
       "      <td>2021-04-01</td>\n",
       "      <td>1047.0</td>\n",
       "      <td>6.953684</td>\n",
       "      <td>6.643822</td>\n",
       "      <td>-0.223144</td>\n",
       "    </tr>\n",
       "  </tbody>\n",
       "</table>\n",
       "</div>"
      ],
      "text/plain": [
       "                                     id   item_date  quantity tons  \\\n",
       "0  EC06F063-9DF0-440C-8764-0B0C05A4F6AE  2021-04-01      54.151139   \n",
       "1  4E5F4B3D-DDDF-499D-AFDE-A3227EC49425  2021-04-01     768.024839   \n",
       "\n",
       "     customer  country status item type  application  thickness   width  \\\n",
       "0  30156308.0     28.0    Won         W         10.0        2.0  1500.0   \n",
       "1  30202938.0     25.0    Won         W         41.0        0.8  1210.0   \n",
       "\n",
       "  material_ref  product_ref delivery date  selling_price  selling_price_log  \\\n",
       "0  DEQ1 S460MC   1670798778    2021-07-01          854.0           6.749931   \n",
       "1       104991   1668701718    2021-04-01         1047.0           6.953684   \n",
       "\n",
       "   quantity tons_log  thickness_log  \n",
       "0           3.991779       0.693147  \n",
       "1           6.643822      -0.223144  "
      ]
     },
     "execution_count": 178,
     "metadata": {},
     "output_type": "execute_result"
    }
   ],
   "source": [
    "df_1.head(2)"
   ]
  },
  {
   "cell_type": "code",
   "execution_count": 179,
   "metadata": {},
   "outputs": [],
   "source": [
    "\n",
    "import pandas\n",
    "import numpy as np \n",
    "from sklearn.tree import DecisionTreeRegressor\n",
    "from sklearn.linear_model import LinearRegression\n",
    "from sklearn.model_selection import GridSearchCV\n",
    "from sklearn.ensemble import RandomForestRegressor\n",
    "from sklearn.ensemble import GradientBoostingRegressor\n",
    "from sklearn.model_selection import train_test_split\n",
    "from sklearn import metrics\n",
    "from sklearn.preprocessing import StandardScaler, OrdinalEncoder\n"
   ]
  },
  {
   "cell_type": "code",
   "execution_count": 180,
   "metadata": {},
   "outputs": [],
   "source": [
    "# Using Ordinal Encoder to covert categorical data into numerical data\n",
    "\n",
    "OE = OrdinalEncoder()\n",
    "df_1.status = OE.fit_transform(df_1[[\"status\"]])\n",
    "\n",
    "OER = OrdinalEncoder()\n",
    "df_1[\"item type\"] = OER.fit_transform(df_1[[\"item type\"]])"
   ]
  },
  {
   "cell_type": "code",
   "execution_count": 181,
   "metadata": {},
   "outputs": [
    {
     "data": {
      "text/html": [
       "<div>\n",
       "<style scoped>\n",
       "    .dataframe tbody tr th:only-of-type {\n",
       "        vertical-align: middle;\n",
       "    }\n",
       "\n",
       "    .dataframe tbody tr th {\n",
       "        vertical-align: top;\n",
       "    }\n",
       "\n",
       "    .dataframe thead th {\n",
       "        text-align: right;\n",
       "    }\n",
       "</style>\n",
       "<table border=\"1\" class=\"dataframe\">\n",
       "  <thead>\n",
       "    <tr style=\"text-align: right;\">\n",
       "      <th></th>\n",
       "      <th>id</th>\n",
       "      <th>item_date</th>\n",
       "      <th>quantity tons</th>\n",
       "      <th>customer</th>\n",
       "      <th>country</th>\n",
       "      <th>status</th>\n",
       "      <th>item type</th>\n",
       "      <th>application</th>\n",
       "      <th>thickness</th>\n",
       "      <th>width</th>\n",
       "      <th>material_ref</th>\n",
       "      <th>product_ref</th>\n",
       "      <th>delivery date</th>\n",
       "      <th>selling_price</th>\n",
       "      <th>selling_price_log</th>\n",
       "      <th>quantity tons_log</th>\n",
       "      <th>thickness_log</th>\n",
       "    </tr>\n",
       "  </thead>\n",
       "  <tbody>\n",
       "    <tr>\n",
       "      <th>0</th>\n",
       "      <td>EC06F063-9DF0-440C-8764-0B0C05A4F6AE</td>\n",
       "      <td>2021-04-01</td>\n",
       "      <td>54.151139</td>\n",
       "      <td>30156308.0</td>\n",
       "      <td>28.0</td>\n",
       "      <td>7.0</td>\n",
       "      <td>5.0</td>\n",
       "      <td>10.0</td>\n",
       "      <td>2.00</td>\n",
       "      <td>1500.0</td>\n",
       "      <td>DEQ1 S460MC</td>\n",
       "      <td>1670798778</td>\n",
       "      <td>2021-07-01</td>\n",
       "      <td>854.00</td>\n",
       "      <td>6.749931</td>\n",
       "      <td>3.991779</td>\n",
       "      <td>0.693147</td>\n",
       "    </tr>\n",
       "    <tr>\n",
       "      <th>1</th>\n",
       "      <td>4E5F4B3D-DDDF-499D-AFDE-A3227EC49425</td>\n",
       "      <td>2021-04-01</td>\n",
       "      <td>768.024839</td>\n",
       "      <td>30202938.0</td>\n",
       "      <td>25.0</td>\n",
       "      <td>7.0</td>\n",
       "      <td>5.0</td>\n",
       "      <td>41.0</td>\n",
       "      <td>0.80</td>\n",
       "      <td>1210.0</td>\n",
       "      <td>104991</td>\n",
       "      <td>1668701718</td>\n",
       "      <td>2021-04-01</td>\n",
       "      <td>1047.00</td>\n",
       "      <td>6.953684</td>\n",
       "      <td>6.643822</td>\n",
       "      <td>-0.223144</td>\n",
       "    </tr>\n",
       "    <tr>\n",
       "      <th>2</th>\n",
       "      <td>E140FF1B-2407-4C02-A0DD-780A093B1158</td>\n",
       "      <td>2021-04-01</td>\n",
       "      <td>386.127949</td>\n",
       "      <td>30153963.0</td>\n",
       "      <td>30.0</td>\n",
       "      <td>7.0</td>\n",
       "      <td>6.0</td>\n",
       "      <td>28.0</td>\n",
       "      <td>0.38</td>\n",
       "      <td>952.0</td>\n",
       "      <td>S0380700</td>\n",
       "      <td>628377</td>\n",
       "      <td>2021-01-01</td>\n",
       "      <td>644.33</td>\n",
       "      <td>6.468211</td>\n",
       "      <td>5.956169</td>\n",
       "      <td>-0.967584</td>\n",
       "    </tr>\n",
       "    <tr>\n",
       "      <th>3</th>\n",
       "      <td>F8D507A0-9C62-4EFE-831E-33E1DA53BB50</td>\n",
       "      <td>2021-04-01</td>\n",
       "      <td>202.411065</td>\n",
       "      <td>30349574.0</td>\n",
       "      <td>32.0</td>\n",
       "      <td>7.0</td>\n",
       "      <td>3.0</td>\n",
       "      <td>59.0</td>\n",
       "      <td>2.30</td>\n",
       "      <td>1317.0</td>\n",
       "      <td>DX51D+ZM310MAO 2.3X1317</td>\n",
       "      <td>1668701718</td>\n",
       "      <td>2021-01-01</td>\n",
       "      <td>768.00</td>\n",
       "      <td>6.643790</td>\n",
       "      <td>5.310301</td>\n",
       "      <td>0.832909</td>\n",
       "    </tr>\n",
       "    <tr>\n",
       "      <th>4</th>\n",
       "      <td>4E1C4E78-152B-430A-8094-ADD889C9D0AD</td>\n",
       "      <td>2021-04-01</td>\n",
       "      <td>785.526262</td>\n",
       "      <td>30211560.0</td>\n",
       "      <td>28.0</td>\n",
       "      <td>7.0</td>\n",
       "      <td>5.0</td>\n",
       "      <td>10.0</td>\n",
       "      <td>4.00</td>\n",
       "      <td>2000.0</td>\n",
       "      <td>2_S275JR+AR-CL1</td>\n",
       "      <td>640665</td>\n",
       "      <td>2021-03-01</td>\n",
       "      <td>577.00</td>\n",
       "      <td>6.357842</td>\n",
       "      <td>6.666354</td>\n",
       "      <td>1.386294</td>\n",
       "    </tr>\n",
       "  </tbody>\n",
       "</table>\n",
       "</div>"
      ],
      "text/plain": [
       "                                     id   item_date  quantity tons  \\\n",
       "0  EC06F063-9DF0-440C-8764-0B0C05A4F6AE  2021-04-01      54.151139   \n",
       "1  4E5F4B3D-DDDF-499D-AFDE-A3227EC49425  2021-04-01     768.024839   \n",
       "2  E140FF1B-2407-4C02-A0DD-780A093B1158  2021-04-01     386.127949   \n",
       "3  F8D507A0-9C62-4EFE-831E-33E1DA53BB50  2021-04-01     202.411065   \n",
       "4  4E1C4E78-152B-430A-8094-ADD889C9D0AD  2021-04-01     785.526262   \n",
       "\n",
       "     customer  country  status  item type  application  thickness   width  \\\n",
       "0  30156308.0     28.0     7.0        5.0         10.0       2.00  1500.0   \n",
       "1  30202938.0     25.0     7.0        5.0         41.0       0.80  1210.0   \n",
       "2  30153963.0     30.0     7.0        6.0         28.0       0.38   952.0   \n",
       "3  30349574.0     32.0     7.0        3.0         59.0       2.30  1317.0   \n",
       "4  30211560.0     28.0     7.0        5.0         10.0       4.00  2000.0   \n",
       "\n",
       "              material_ref  product_ref delivery date  selling_price  \\\n",
       "0              DEQ1 S460MC   1670798778    2021-07-01         854.00   \n",
       "1                   104991   1668701718    2021-04-01        1047.00   \n",
       "2                 S0380700       628377    2021-01-01         644.33   \n",
       "3  DX51D+ZM310MAO 2.3X1317   1668701718    2021-01-01         768.00   \n",
       "4          2_S275JR+AR-CL1       640665    2021-03-01         577.00   \n",
       "\n",
       "   selling_price_log  quantity tons_log  thickness_log  \n",
       "0           6.749931           3.991779       0.693147  \n",
       "1           6.953684           6.643822      -0.223144  \n",
       "2           6.468211           5.956169      -0.967584  \n",
       "3           6.643790           5.310301       0.832909  \n",
       "4           6.357842           6.666354       1.386294  "
      ]
     },
     "execution_count": 181,
     "metadata": {},
     "output_type": "execute_result"
    }
   ],
   "source": [
    "df_1.head()"
   ]
  },
  {
   "cell_type": "code",
   "execution_count": 182,
   "metadata": {},
   "outputs": [],
   "source": [
    "df_1 =df_1.dropna()"
   ]
  },
  {
   "cell_type": "markdown",
   "metadata": {},
   "source": [
    "### Regression"
   ]
  },
  {
   "cell_type": "code",
   "execution_count": 183,
   "metadata": {},
   "outputs": [],
   "source": [
    "# split the data \n",
    "\n",
    "#split data into X, y\n",
    "X=df_1[['quantity tons_log','status','item type','application','thickness_log','width','country','customer','product_ref']]\n",
    "y=df_1['selling_price_log']"
   ]
  },
  {
   "cell_type": "code",
   "execution_count": 184,
   "metadata": {},
   "outputs": [
    {
     "data": {
      "text/plain": [
       "array([[ 0.41506739,  0.70620108,  0.82144631, ..., -0.69225033,\n",
       "        -0.75771563,  1.66790511],\n",
       "       [ 2.25042993,  0.70620108,  0.82144631, ..., -0.81517858,\n",
       "        -0.29403459,  1.66498251],\n",
       "       [ 1.77453529,  0.70620108,  1.76911846, ..., -0.61029817,\n",
       "        -0.78103392, -0.65974878],\n",
       "       ...,\n",
       "       [ 1.34669579,  0.70620108,  0.82144631, ..., -0.81517858,\n",
       "        -0.31475754, -0.43186654],\n",
       "       [-1.34846834,  0.70620108,  0.82144631, ..., -0.81517858,\n",
       "        -0.31475754, -0.43186654],\n",
       "       [ 1.81043496,  0.70620108,  0.82144631, ..., -0.81517858,\n",
       "        -0.31475754, -0.43186654]])"
      ]
     },
     "execution_count": 184,
     "metadata": {},
     "output_type": "execute_result"
    }
   ],
   "source": [
    "from sklearn.preprocessing import StandardScaler\n",
    "SS = StandardScaler()\n",
    "SS.fit_transform(X)"
   ]
  },
  {
   "cell_type": "code",
   "execution_count": 185,
   "metadata": {},
   "outputs": [
    {
     "name": "stdout",
     "output_type": "stream",
     "text": [
      "(127134, 9)\n",
      "(54486, 9)\n",
      "(127134,)\n",
      "(54486,)\n"
     ]
    }
   ],
   "source": [
    "from sklearn.model_selection import train_test_split\n",
    "X_train, X_test, y_train, y_test = train_test_split(X, y, test_size = 0.3, random_state = 5)\n",
    "print(X_train.shape)\n",
    "print(X_test.shape)\n",
    "print(y_train.shape)\n",
    "print(y_test.shape)"
   ]
  },
  {
   "cell_type": "code",
   "execution_count": 186,
   "metadata": {},
   "outputs": [
    {
     "name": "stdout",
     "output_type": "stream",
     "text": [
      "0.08464529095643192\n",
      "0.07805457009696537\n"
     ]
    }
   ],
   "source": [
    "lr = LinearRegression()\n",
    "lr.fit(X_train,y_train)\n",
    "print(lr.score(X_train,y_train))\n",
    "print(lr.score(X_test,y_test))"
   ]
  },
  {
   "cell_type": "code",
   "execution_count": 187,
   "metadata": {},
   "outputs": [
    {
     "name": "stdout",
     "output_type": "stream",
     "text": [
      "0.8736436626286413\n",
      "0.8867180545575358\n"
     ]
    }
   ],
   "source": [
    "Rf_r = RandomForestRegressor(n_estimators = 20 , max_depth = 4 , random_state = 42)\n",
    "Rf_r.fit(X_train,y_train)\n",
    "print(Rf_r.score(X_train,y_train))\n",
    "print(Rf_r.score(X_test,y_test))"
   ]
  },
  {
   "cell_type": "code",
   "execution_count": 188,
   "metadata": {},
   "outputs": [
    {
     "name": "stdout",
     "output_type": "stream",
     "text": [
      "0.7627437653996635\n",
      "0.7738696934709421\n"
     ]
    }
   ],
   "source": [
    "grb = GradientBoostingRegressor(n_estimators = 10, learning_rate = 0.1, random_state = 42)\n",
    "grb.fit(X_train,y_train)\n",
    "print(grb.score(X_train,y_train))\n",
    "print(grb.score(X_test,y_test))"
   ]
  },
  {
   "cell_type": "code",
   "execution_count": 194,
   "metadata": {},
   "outputs": [
    {
     "name": "stdout",
     "output_type": "stream",
     "text": [
      "Best Hyperparameters: {'max_depth': 20, 'max_features': 'sqrt', 'min_samples_leaf': 4, 'min_samples_split': 10}\n"
     ]
    }
   ],
   "source": [
    "dft = DecisionTreeRegressor()\n",
    "\n",
    "# hyperparameters \n",
    "\n",
    "param_grid = {'max_depth': [2, 5, 10, 20],\n",
    "              'min_samples_split': [2, 5, 10],\n",
    "              'min_samples_leaf': [1, 2, 4],\n",
    "              'max_features': ['auto', 'sqrt', 'log2']}\n",
    "\n",
    "# gridsearchcv\n",
    "\n",
    "grid_search = GridSearchCV(estimator=dft , param_grid=param_grid, cv=5)\n",
    "grid_search.fit(X_train,y_train)\n",
    "print(\"Best Hyperparameters:\",grid_search.best_params_)\n",
    "best_model = grid_search.best_estimator_\n",
    "y_pred = best_model.predict(X_test)"
   ]
  },
  {
   "cell_type": "markdown",
   "metadata": {},
   "source": [
    "#### check metrics"
   ]
  },
  {
   "cell_type": "code",
   "execution_count": 190,
   "metadata": {},
   "outputs": [
    {
     "data": {
      "text/plain": [
       "np.float64(0.02800114671124916)"
      ]
     },
     "execution_count": 190,
     "metadata": {},
     "output_type": "execute_result"
    }
   ],
   "source": [
    "#check MSE\n",
    "metrics.mean_squared_error(y_test,y_pred)"
   ]
  },
  {
   "cell_type": "code",
   "execution_count": 191,
   "metadata": {},
   "outputs": [
    {
     "data": {
      "text/plain": [
       "np.float64(0.12695087045541245)"
      ]
     },
     "execution_count": 191,
     "metadata": {},
     "output_type": "execute_result"
    }
   ],
   "source": [
    "#check MAE\n",
    "metrics.mean_absolute_error(y_test, y_pred)"
   ]
  },
  {
   "cell_type": "code",
   "execution_count": 192,
   "metadata": {},
   "outputs": [
    {
     "name": "stdout",
     "output_type": "stream",
     "text": [
      "0.9135936536047295\n"
     ]
    }
   ],
   "source": [
    "#R2 Score\n",
    "print(metrics.r2_score(y_test,y_pred))"
   ]
  },
  {
   "cell_type": "code",
   "execution_count": 206,
   "metadata": {},
   "outputs": [],
   "source": [
    "import pickle\n",
    "\n",
    "# Saving the model\n",
    "import pickle\n",
    "with open('model.pkl', 'wb') as file:\n",
    "    pickle.dump(best_model, file)\n",
    "with open('scaler.pkl', 'wb') as f:\n",
    "    pickle.dump(SS, f)\n",
    "with open('t.pkl', 'wb') as f:\n",
    "    pickle.dump(OER, f)\n",
    "with open('s.pkl', 'wb') as f:\n",
    "    pickle.dump(OE, f)"
   ]
  },
  {
   "cell_type": "markdown",
   "metadata": {},
   "source": [
    "#### classification"
   ]
  },
  {
   "cell_type": "code",
   "execution_count": 195,
   "metadata": {},
   "outputs": [
    {
     "data": {
      "text/plain": [
       "status\n",
       "7.0    115996\n",
       "1.0     34431\n",
       "2.0     19566\n",
       "5.0      4276\n",
       "6.0      4167\n",
       "0.0      3120\n",
       "4.0        53\n",
       "3.0        10\n",
       "8.0         1\n",
       "Name: count, dtype: int64"
      ]
     },
     "execution_count": 195,
     "metadata": {},
     "output_type": "execute_result"
    }
   ],
   "source": [
    "df_1.status.value_counts()"
   ]
  },
  {
   "cell_type": "code",
   "execution_count": 202,
   "metadata": {},
   "outputs": [],
   "source": [
    "df = data.copy()"
   ]
  },
  {
   "cell_type": "code",
   "execution_count": 204,
   "metadata": {},
   "outputs": [
    {
     "name": "stdout",
     "output_type": "stream",
     "text": [
      "150435\n"
     ]
    }
   ],
   "source": [
    "df = df[df[\"status\"].isin([\"Won\",\"Lost\"])]\n",
    "print(len(df))"
   ]
  },
  {
   "cell_type": "code",
   "execution_count": 205,
   "metadata": {},
   "outputs": [
    {
     "data": {
      "text/plain": [
       "status\n",
       "Won     116004\n",
       "Lost     34431\n",
       "Name: count, dtype: int64"
      ]
     },
     "execution_count": 205,
     "metadata": {},
     "output_type": "execute_result"
    }
   ],
   "source": [
    "df.status.value_counts()"
   ]
  },
  {
   "cell_type": "code",
   "execution_count": 208,
   "metadata": {},
   "outputs": [],
   "source": [
    "#import classifier algorithms.\n",
    "from sklearn.tree import DecisionTreeClassifier\n",
    "from sklearn.neighbors import KNeighborsClassifier\n",
    "from sklearn.ensemble import RandomForestClassifier\n",
    "from sklearn.ensemble import GradientBoostingClassifier\n",
    "from sklearn.linear_model import LogisticRegression"
   ]
  },
  {
   "cell_type": "code",
   "execution_count": 228,
   "metadata": {},
   "outputs": [
    {
     "name": "stdout",
     "output_type": "stream",
     "text": [
      "Collecting xgboost\n",
      "  Obtaining dependency information for xgboost from https://files.pythonhosted.org/packages/e2/7b/8c1b410cd0604cee9a167a19f7e1746f5b92ae7d02ad574ab560b73c5a48/xgboost-2.1.1-py3-none-win_amd64.whl.metadata\n",
      "  Downloading xgboost-2.1.1-py3-none-win_amd64.whl.metadata (2.1 kB)\n",
      "Requirement already satisfied: numpy in d:\\error\\ds_industrial copper modeling\\.venv\\lib\\site-packages (from xgboost) (2.1.1)\n",
      "Requirement already satisfied: scipy in d:\\error\\ds_industrial copper modeling\\.venv\\lib\\site-packages (from xgboost) (1.14.1)\n",
      "Downloading xgboost-2.1.1-py3-none-win_amd64.whl (124.9 MB)\n",
      "   ---------------------------------------- 0.0/124.9 MB ? eta -:--:--\n",
      "   ---------------------------------------- 0.0/124.9 MB ? eta -:--:--\n",
      "   ---------------------------------------- 0.0/124.9 MB ? eta -:--:--\n",
      "   ---------------------------------------- 0.1/124.9 MB 544.7 kB/s eta 0:03:50\n",
      "   ---------------------------------------- 0.2/124.9 MB 1.5 MB/s eta 0:01:22\n",
      "   ---------------------------------------- 0.7/124.9 MB 3.6 MB/s eta 0:00:35\n",
      "   ---------------------------------------- 1.2/124.9 MB 5.2 MB/s eta 0:00:24\n",
      "   ---------------------------------------- 1.5/124.9 MB 5.8 MB/s eta 0:00:22\n",
      "    --------------------------------------- 1.6/124.9 MB 5.4 MB/s eta 0:00:23\n",
      "    --------------------------------------- 1.7/124.9 MB 4.9 MB/s eta 0:00:26\n",
      "    --------------------------------------- 1.7/124.9 MB 4.3 MB/s eta 0:00:29\n",
      "    --------------------------------------- 2.6/124.9 MB 5.9 MB/s eta 0:00:21\n",
      "    --------------------------------------- 2.6/124.9 MB 5.9 MB/s eta 0:00:21\n",
      "   - -------------------------------------- 3.2/124.9 MB 5.8 MB/s eta 0:00:22\n",
      "   - -------------------------------------- 3.6/124.9 MB 6.0 MB/s eta 0:00:21\n",
      "   - -------------------------------------- 3.6/124.9 MB 6.0 MB/s eta 0:00:21\n",
      "   - -------------------------------------- 3.7/124.9 MB 5.4 MB/s eta 0:00:23\n",
      "   - -------------------------------------- 3.9/124.9 MB 5.2 MB/s eta 0:00:24\n",
      "   - -------------------------------------- 4.0/124.9 MB 5.1 MB/s eta 0:00:24\n",
      "   - -------------------------------------- 4.2/124.9 MB 5.1 MB/s eta 0:00:24\n",
      "   - -------------------------------------- 4.4/124.9 MB 5.0 MB/s eta 0:00:25\n",
      "   - -------------------------------------- 4.6/124.9 MB 5.0 MB/s eta 0:00:25\n",
      "   - -------------------------------------- 4.8/124.9 MB 5.0 MB/s eta 0:00:25\n",
      "   - -------------------------------------- 5.2/124.9 MB 5.1 MB/s eta 0:00:24\n",
      "   - -------------------------------------- 5.3/124.9 MB 5.1 MB/s eta 0:00:24\n",
      "   - -------------------------------------- 5.7/124.9 MB 5.1 MB/s eta 0:00:24\n",
      "   - -------------------------------------- 5.9/124.9 MB 5.1 MB/s eta 0:00:24\n",
      "   - -------------------------------------- 6.2/124.9 MB 5.1 MB/s eta 0:00:24\n",
      "   -- ------------------------------------- 6.3/124.9 MB 5.2 MB/s eta 0:00:23\n",
      "   -- ------------------------------------- 6.6/124.9 MB 5.2 MB/s eta 0:00:23\n",
      "   -- ------------------------------------- 6.8/124.9 MB 5.1 MB/s eta 0:00:24\n",
      "   -- ------------------------------------- 7.0/124.9 MB 5.1 MB/s eta 0:00:24\n",
      "   -- ------------------------------------- 7.1/124.9 MB 4.9 MB/s eta 0:00:24\n",
      "   -- ------------------------------------- 7.4/124.9 MB 4.9 MB/s eta 0:00:24\n",
      "   -- ------------------------------------- 7.5/124.9 MB 4.9 MB/s eta 0:00:24\n",
      "   -- ------------------------------------- 7.8/124.9 MB 4.9 MB/s eta 0:00:24\n",
      "   -- ------------------------------------- 7.9/124.9 MB 4.9 MB/s eta 0:00:25\n",
      "   -- ------------------------------------- 8.1/124.9 MB 4.9 MB/s eta 0:00:25\n",
      "   -- ------------------------------------- 8.4/124.9 MB 4.9 MB/s eta 0:00:25\n",
      "   -- ------------------------------------- 8.6/124.9 MB 4.9 MB/s eta 0:00:24\n",
      "   -- ------------------------------------- 8.8/124.9 MB 4.9 MB/s eta 0:00:24\n",
      "   -- ------------------------------------- 9.0/124.9 MB 4.8 MB/s eta 0:00:24\n",
      "   -- ------------------------------------- 9.2/124.9 MB 4.8 MB/s eta 0:00:24\n",
      "   --- ------------------------------------ 9.5/124.9 MB 4.8 MB/s eta 0:00:24\n",
      "   --- ------------------------------------ 9.6/124.9 MB 4.8 MB/s eta 0:00:24\n",
      "   --- ------------------------------------ 9.9/124.9 MB 4.8 MB/s eta 0:00:24\n",
      "   --- ------------------------------------ 10.1/124.9 MB 4.8 MB/s eta 0:00:24\n",
      "   --- ------------------------------------ 10.4/124.9 MB 5.1 MB/s eta 0:00:23\n",
      "   --- ------------------------------------ 10.6/124.9 MB 5.0 MB/s eta 0:00:23\n",
      "   --- ------------------------------------ 10.8/124.9 MB 5.0 MB/s eta 0:00:23\n",
      "   --- ------------------------------------ 11.1/124.9 MB 5.0 MB/s eta 0:00:23\n",
      "   --- ------------------------------------ 11.3/124.9 MB 4.9 MB/s eta 0:00:24\n",
      "   --- ------------------------------------ 11.6/124.9 MB 4.8 MB/s eta 0:00:24\n",
      "   --- ------------------------------------ 11.8/124.9 MB 4.8 MB/s eta 0:00:24\n",
      "   --- ------------------------------------ 12.1/124.9 MB 5.1 MB/s eta 0:00:23\n",
      "   --- ------------------------------------ 12.3/124.9 MB 5.0 MB/s eta 0:00:23\n",
      "   --- ------------------------------------ 12.5/124.9 MB 4.9 MB/s eta 0:00:24\n",
      "   ---- ----------------------------------- 12.8/124.9 MB 4.7 MB/s eta 0:00:24\n",
      "   ---- ----------------------------------- 13.1/124.9 MB 4.8 MB/s eta 0:00:24\n",
      "   ---- ----------------------------------- 13.3/124.9 MB 4.8 MB/s eta 0:00:24\n",
      "   ---- ----------------------------------- 13.5/124.9 MB 4.7 MB/s eta 0:00:24\n",
      "   ---- ----------------------------------- 13.8/124.9 MB 4.9 MB/s eta 0:00:23\n",
      "   ---- ----------------------------------- 14.1/124.9 MB 4.9 MB/s eta 0:00:23\n",
      "   ---- ----------------------------------- 14.3/124.9 MB 5.0 MB/s eta 0:00:23\n",
      "   ---- ----------------------------------- 14.6/124.9 MB 5.1 MB/s eta 0:00:22\n",
      "   ---- ----------------------------------- 14.9/124.9 MB 5.0 MB/s eta 0:00:23\n",
      "   ---- ----------------------------------- 15.1/124.9 MB 5.0 MB/s eta 0:00:22\n",
      "   ---- ----------------------------------- 15.4/124.9 MB 5.1 MB/s eta 0:00:22\n",
      "   ----- ---------------------------------- 15.7/124.9 MB 5.1 MB/s eta 0:00:22\n",
      "   ----- ---------------------------------- 16.0/124.9 MB 5.1 MB/s eta 0:00:22\n",
      "   ----- ---------------------------------- 16.3/124.9 MB 5.1 MB/s eta 0:00:22\n",
      "   ----- ---------------------------------- 16.6/124.9 MB 5.2 MB/s eta 0:00:21\n",
      "   ----- ---------------------------------- 16.9/124.9 MB 5.2 MB/s eta 0:00:21\n",
      "   ----- ---------------------------------- 17.2/124.9 MB 5.3 MB/s eta 0:00:21\n",
      "   ----- ---------------------------------- 17.5/124.9 MB 5.4 MB/s eta 0:00:21\n",
      "   ----- ---------------------------------- 17.8/124.9 MB 5.5 MB/s eta 0:00:20\n",
      "   ----- ---------------------------------- 18.1/124.9 MB 5.5 MB/s eta 0:00:20\n",
      "   ----- ---------------------------------- 18.4/124.9 MB 5.5 MB/s eta 0:00:20\n",
      "   ----- ---------------------------------- 18.7/124.9 MB 5.6 MB/s eta 0:00:19\n",
      "   ------ --------------------------------- 18.9/124.9 MB 5.6 MB/s eta 0:00:19\n",
      "   ------ --------------------------------- 19.3/124.9 MB 5.7 MB/s eta 0:00:19\n",
      "   ------ --------------------------------- 19.5/124.9 MB 5.7 MB/s eta 0:00:19\n",
      "   ------ --------------------------------- 19.8/124.9 MB 5.8 MB/s eta 0:00:19\n",
      "   ------ --------------------------------- 20.1/124.9 MB 5.8 MB/s eta 0:00:18\n",
      "   ------ --------------------------------- 20.4/124.9 MB 5.9 MB/s eta 0:00:18\n",
      "   ------ --------------------------------- 20.7/124.9 MB 5.9 MB/s eta 0:00:18\n",
      "   ------ --------------------------------- 21.0/124.9 MB 6.0 MB/s eta 0:00:18\n",
      "   ------ --------------------------------- 21.3/124.9 MB 6.0 MB/s eta 0:00:18\n",
      "   ------ --------------------------------- 21.6/124.9 MB 6.0 MB/s eta 0:00:18\n",
      "   ------- -------------------------------- 22.0/124.9 MB 6.1 MB/s eta 0:00:17\n",
      "   ------- -------------------------------- 22.2/124.9 MB 6.1 MB/s eta 0:00:17\n",
      "   ------- -------------------------------- 22.6/124.9 MB 6.1 MB/s eta 0:00:17\n",
      "   ------- -------------------------------- 22.9/124.9 MB 6.2 MB/s eta 0:00:17\n",
      "   ------- -------------------------------- 23.1/124.9 MB 6.2 MB/s eta 0:00:17\n",
      "   ------- -------------------------------- 23.4/124.9 MB 6.2 MB/s eta 0:00:17\n",
      "   ------- -------------------------------- 23.8/124.9 MB 6.3 MB/s eta 0:00:17\n",
      "   ------- -------------------------------- 24.1/124.9 MB 6.3 MB/s eta 0:00:17\n",
      "   ------- -------------------------------- 24.4/124.9 MB 6.4 MB/s eta 0:00:16\n",
      "   ------- -------------------------------- 24.8/124.9 MB 6.4 MB/s eta 0:00:16\n",
      "   -------- ------------------------------- 25.1/124.9 MB 6.5 MB/s eta 0:00:16\n",
      "   -------- ------------------------------- 25.4/124.9 MB 6.5 MB/s eta 0:00:16\n",
      "   -------- ------------------------------- 25.8/124.9 MB 6.5 MB/s eta 0:00:16\n",
      "   -------- ------------------------------- 26.2/124.9 MB 6.6 MB/s eta 0:00:15\n",
      "   -------- ------------------------------- 26.5/124.9 MB 6.6 MB/s eta 0:00:15\n",
      "   -------- ------------------------------- 26.7/124.9 MB 6.5 MB/s eta 0:00:15\n",
      "   -------- ------------------------------- 27.0/124.9 MB 6.6 MB/s eta 0:00:15\n",
      "   -------- ------------------------------- 27.3/124.9 MB 6.5 MB/s eta 0:00:15\n",
      "   -------- ------------------------------- 27.6/124.9 MB 6.5 MB/s eta 0:00:15\n",
      "   -------- ------------------------------- 27.9/124.9 MB 6.6 MB/s eta 0:00:15\n",
      "   --------- ------------------------------ 28.2/124.9 MB 6.5 MB/s eta 0:00:15\n",
      "   --------- ------------------------------ 28.5/124.9 MB 6.5 MB/s eta 0:00:15\n",
      "   --------- ------------------------------ 28.7/124.9 MB 6.5 MB/s eta 0:00:15\n",
      "   --------- ------------------------------ 29.0/124.9 MB 6.5 MB/s eta 0:00:15\n",
      "   --------- ------------------------------ 29.2/124.9 MB 6.5 MB/s eta 0:00:15\n",
      "   --------- ------------------------------ 29.6/124.9 MB 6.5 MB/s eta 0:00:15\n",
      "   --------- ------------------------------ 29.9/124.9 MB 6.5 MB/s eta 0:00:15\n",
      "   --------- ------------------------------ 30.0/124.9 MB 6.5 MB/s eta 0:00:15\n",
      "   --------- ------------------------------ 30.2/124.9 MB 6.4 MB/s eta 0:00:15\n",
      "   --------- ------------------------------ 30.4/124.9 MB 6.4 MB/s eta 0:00:15\n",
      "   --------- ------------------------------ 30.6/124.9 MB 6.3 MB/s eta 0:00:15\n",
      "   --------- ------------------------------ 30.9/124.9 MB 6.3 MB/s eta 0:00:15\n",
      "   --------- ------------------------------ 31.1/124.9 MB 6.3 MB/s eta 0:00:15\n",
      "   ---------- ----------------------------- 31.4/124.9 MB 6.3 MB/s eta 0:00:15\n",
      "   ---------- ----------------------------- 31.6/124.9 MB 6.2 MB/s eta 0:00:15\n",
      "   ---------- ----------------------------- 31.9/124.9 MB 6.2 MB/s eta 0:00:16\n",
      "   ---------- ----------------------------- 32.2/124.9 MB 6.2 MB/s eta 0:00:16\n",
      "   ---------- ----------------------------- 32.4/124.9 MB 6.1 MB/s eta 0:00:16\n",
      "   ---------- ----------------------------- 32.7/124.9 MB 6.1 MB/s eta 0:00:16\n",
      "   ---------- ----------------------------- 33.0/124.9 MB 6.1 MB/s eta 0:00:16\n",
      "   ---------- ----------------------------- 33.3/124.9 MB 6.1 MB/s eta 0:00:15\n",
      "   ---------- ----------------------------- 33.6/124.9 MB 6.1 MB/s eta 0:00:15\n",
      "   ---------- ----------------------------- 33.9/124.9 MB 6.1 MB/s eta 0:00:15\n",
      "   ---------- ----------------------------- 34.2/124.9 MB 6.1 MB/s eta 0:00:15\n",
      "   ----------- ---------------------------- 34.5/124.9 MB 6.1 MB/s eta 0:00:15\n",
      "   ----------- ---------------------------- 34.7/124.9 MB 6.0 MB/s eta 0:00:16\n",
      "   ----------- ---------------------------- 35.0/124.9 MB 6.0 MB/s eta 0:00:15\n",
      "   ----------- ---------------------------- 35.3/124.9 MB 6.0 MB/s eta 0:00:15\n",
      "   ----------- ---------------------------- 35.6/124.9 MB 6.0 MB/s eta 0:00:15\n",
      "   ----------- ---------------------------- 36.0/124.9 MB 6.0 MB/s eta 0:00:15\n",
      "   ----------- ---------------------------- 36.3/124.9 MB 6.0 MB/s eta 0:00:15\n",
      "   ----------- ---------------------------- 36.6/124.9 MB 6.0 MB/s eta 0:00:15\n",
      "   ----------- ---------------------------- 36.9/124.9 MB 6.0 MB/s eta 0:00:15\n",
      "   ----------- ---------------------------- 37.1/124.9 MB 5.9 MB/s eta 0:00:15\n",
      "   ----------- ---------------------------- 37.5/124.9 MB 6.0 MB/s eta 0:00:15\n",
      "   ------------ --------------------------- 37.8/124.9 MB 6.0 MB/s eta 0:00:15\n",
      "   ------------ --------------------------- 38.1/124.9 MB 6.0 MB/s eta 0:00:15\n",
      "   ------------ --------------------------- 38.4/124.9 MB 6.0 MB/s eta 0:00:15\n",
      "   ------------ --------------------------- 38.7/124.9 MB 6.0 MB/s eta 0:00:15\n",
      "   ------------ --------------------------- 39.1/124.9 MB 6.1 MB/s eta 0:00:15\n",
      "   ------------ --------------------------- 39.3/124.9 MB 6.1 MB/s eta 0:00:15\n",
      "   ------------ --------------------------- 39.7/124.9 MB 6.1 MB/s eta 0:00:14\n",
      "   ------------ --------------------------- 40.0/124.9 MB 6.1 MB/s eta 0:00:14\n",
      "   ------------ --------------------------- 40.3/124.9 MB 6.2 MB/s eta 0:00:14\n",
      "   ------------- -------------------------- 40.7/124.9 MB 6.4 MB/s eta 0:00:14\n",
      "   ------------- -------------------------- 41.0/124.9 MB 6.4 MB/s eta 0:00:14\n",
      "   ------------- -------------------------- 41.3/124.9 MB 6.5 MB/s eta 0:00:13\n",
      "   ------------- -------------------------- 41.6/124.9 MB 6.5 MB/s eta 0:00:13\n",
      "   ------------- -------------------------- 41.9/124.9 MB 6.5 MB/s eta 0:00:13\n",
      "   ------------- -------------------------- 42.2/124.9 MB 6.5 MB/s eta 0:00:13\n",
      "   ------------- -------------------------- 42.5/124.9 MB 6.5 MB/s eta 0:00:13\n",
      "   ------------- -------------------------- 42.8/124.9 MB 6.6 MB/s eta 0:00:13\n",
      "   ------------- -------------------------- 43.1/124.9 MB 6.6 MB/s eta 0:00:13\n",
      "   ------------- -------------------------- 43.3/124.9 MB 6.6 MB/s eta 0:00:13\n",
      "   ------------- -------------------------- 43.6/124.9 MB 6.5 MB/s eta 0:00:13\n",
      "   -------------- ------------------------- 43.9/124.9 MB 6.5 MB/s eta 0:00:13\n",
      "   -------------- ------------------------- 44.2/124.9 MB 6.5 MB/s eta 0:00:13\n",
      "   -------------- ------------------------- 44.5/124.9 MB 6.6 MB/s eta 0:00:13\n",
      "   -------------- ------------------------- 44.8/124.9 MB 6.6 MB/s eta 0:00:13\n",
      "   -------------- ------------------------- 45.0/124.9 MB 6.5 MB/s eta 0:00:13\n",
      "   -------------- ------------------------- 45.3/124.9 MB 6.6 MB/s eta 0:00:13\n",
      "   -------------- ------------------------- 45.6/124.9 MB 6.5 MB/s eta 0:00:13\n",
      "   -------------- ------------------------- 45.9/124.9 MB 6.6 MB/s eta 0:00:12\n",
      "   -------------- ------------------------- 46.2/124.9 MB 6.5 MB/s eta 0:00:13\n",
      "   -------------- ------------------------- 46.5/124.9 MB 6.5 MB/s eta 0:00:12\n",
      "   -------------- ------------------------- 46.7/124.9 MB 6.5 MB/s eta 0:00:13\n",
      "   --------------- ------------------------ 47.1/124.9 MB 6.5 MB/s eta 0:00:12\n",
      "   --------------- ------------------------ 47.3/124.9 MB 6.5 MB/s eta 0:00:12\n",
      "   --------------- ------------------------ 47.4/124.9 MB 6.5 MB/s eta 0:00:12\n",
      "   --------------- ------------------------ 47.6/124.9 MB 6.4 MB/s eta 0:00:13\n",
      "   --------------- ------------------------ 48.1/124.9 MB 6.4 MB/s eta 0:00:12\n",
      "   --------------- ------------------------ 48.4/124.9 MB 6.4 MB/s eta 0:00:13\n",
      "   --------------- ------------------------ 48.7/124.9 MB 6.4 MB/s eta 0:00:12\n",
      "   --------------- ------------------------ 48.9/124.9 MB 6.4 MB/s eta 0:00:12\n",
      "   --------------- ------------------------ 49.2/124.9 MB 6.3 MB/s eta 0:00:13\n",
      "   --------------- ------------------------ 49.5/124.9 MB 6.3 MB/s eta 0:00:12\n",
      "   --------------- ------------------------ 49.8/124.9 MB 6.3 MB/s eta 0:00:12\n",
      "   ---------------- ----------------------- 50.1/124.9 MB 6.2 MB/s eta 0:00:12\n",
      "   ---------------- ----------------------- 50.4/124.9 MB 6.3 MB/s eta 0:00:12\n",
      "   ---------------- ----------------------- 50.7/124.9 MB 6.2 MB/s eta 0:00:12\n",
      "   ---------------- ----------------------- 51.0/124.9 MB 6.1 MB/s eta 0:00:13\n",
      "   ---------------- ----------------------- 51.2/124.9 MB 6.1 MB/s eta 0:00:13\n",
      "   ---------------- ----------------------- 51.5/124.9 MB 6.1 MB/s eta 0:00:13\n",
      "   ---------------- ----------------------- 51.8/124.9 MB 6.1 MB/s eta 0:00:13\n",
      "   ---------------- ----------------------- 52.1/124.9 MB 6.1 MB/s eta 0:00:13\n",
      "   ---------------- ----------------------- 52.4/124.9 MB 6.1 MB/s eta 0:00:12\n",
      "   ---------------- ----------------------- 52.7/124.9 MB 6.1 MB/s eta 0:00:12\n",
      "   ---------------- ----------------------- 53.0/124.9 MB 6.1 MB/s eta 0:00:12\n",
      "   ----------------- ---------------------- 53.2/124.9 MB 6.2 MB/s eta 0:00:12\n",
      "   ----------------- ---------------------- 53.6/124.9 MB 6.2 MB/s eta 0:00:12\n",
      "   ----------------- ---------------------- 53.8/124.9 MB 6.2 MB/s eta 0:00:12\n",
      "   ----------------- ---------------------- 54.2/124.9 MB 6.2 MB/s eta 0:00:12\n",
      "   ----------------- ---------------------- 54.5/124.9 MB 6.2 MB/s eta 0:00:12\n",
      "   ----------------- ---------------------- 54.8/124.9 MB 6.2 MB/s eta 0:00:12\n",
      "   ----------------- ---------------------- 55.0/124.9 MB 6.2 MB/s eta 0:00:12\n",
      "   ----------------- ---------------------- 55.3/124.9 MB 6.2 MB/s eta 0:00:12\n",
      "   ----------------- ---------------------- 55.6/124.9 MB 6.2 MB/s eta 0:00:12\n",
      "   ----------------- ---------------------- 55.9/124.9 MB 6.2 MB/s eta 0:00:12\n",
      "   ----------------- ---------------------- 56.2/124.9 MB 6.2 MB/s eta 0:00:12\n",
      "   ------------------ --------------------- 56.4/124.9 MB 6.2 MB/s eta 0:00:11\n",
      "   ------------------ --------------------- 56.7/124.9 MB 6.2 MB/s eta 0:00:11\n",
      "   ------------------ --------------------- 57.0/124.9 MB 6.2 MB/s eta 0:00:11\n",
      "   ------------------ --------------------- 57.3/124.9 MB 6.2 MB/s eta 0:00:11\n",
      "   ------------------ --------------------- 57.6/124.9 MB 6.2 MB/s eta 0:00:11\n",
      "   ------------------ --------------------- 57.9/124.9 MB 6.4 MB/s eta 0:00:11\n",
      "   ------------------ --------------------- 58.2/124.9 MB 6.2 MB/s eta 0:00:11\n",
      "   ------------------ --------------------- 58.5/124.9 MB 6.2 MB/s eta 0:00:11\n",
      "   ------------------ --------------------- 58.8/124.9 MB 6.3 MB/s eta 0:00:11\n",
      "   ------------------ --------------------- 59.0/124.9 MB 6.2 MB/s eta 0:00:11\n",
      "   ------------------- -------------------- 59.4/124.9 MB 6.3 MB/s eta 0:00:11\n",
      "   ------------------- -------------------- 59.7/124.9 MB 6.4 MB/s eta 0:00:11\n",
      "   ------------------- -------------------- 60.0/124.9 MB 6.4 MB/s eta 0:00:11\n",
      "   ------------------- -------------------- 60.3/124.9 MB 6.4 MB/s eta 0:00:11\n",
      "   ------------------- -------------------- 60.6/124.9 MB 6.4 MB/s eta 0:00:11\n",
      "   ------------------- -------------------- 60.8/124.9 MB 6.3 MB/s eta 0:00:11\n",
      "   ------------------- -------------------- 61.1/124.9 MB 6.3 MB/s eta 0:00:11\n",
      "   ------------------- -------------------- 61.4/124.9 MB 6.4 MB/s eta 0:00:10\n",
      "   ------------------- -------------------- 61.7/124.9 MB 6.4 MB/s eta 0:00:10\n",
      "   ------------------- -------------------- 62.0/124.9 MB 6.4 MB/s eta 0:00:10\n",
      "   ------------------- -------------------- 62.3/124.9 MB 6.4 MB/s eta 0:00:10\n",
      "   -------------------- ------------------- 62.6/124.9 MB 6.4 MB/s eta 0:00:10\n",
      "   -------------------- ------------------- 62.9/124.9 MB 6.4 MB/s eta 0:00:10\n",
      "   -------------------- ------------------- 63.2/124.9 MB 6.4 MB/s eta 0:00:10\n",
      "   -------------------- ------------------- 63.5/124.9 MB 6.3 MB/s eta 0:00:10\n",
      "   -------------------- ------------------- 63.7/124.9 MB 6.3 MB/s eta 0:00:10\n",
      "   -------------------- ------------------- 64.0/124.9 MB 6.3 MB/s eta 0:00:10\n",
      "   -------------------- ------------------- 64.3/124.9 MB 6.2 MB/s eta 0:00:10\n",
      "   -------------------- ------------------- 64.7/124.9 MB 6.2 MB/s eta 0:00:10\n",
      "   -------------------- ------------------- 64.9/124.9 MB 6.2 MB/s eta 0:00:10\n",
      "   -------------------- ------------------- 65.2/124.9 MB 6.2 MB/s eta 0:00:10\n",
      "   -------------------- ------------------- 65.5/124.9 MB 6.2 MB/s eta 0:00:10\n",
      "   --------------------- ------------------ 65.8/124.9 MB 6.2 MB/s eta 0:00:10\n",
      "   --------------------- ------------------ 66.0/124.9 MB 6.2 MB/s eta 0:00:10\n",
      "   --------------------- ------------------ 66.3/124.9 MB 6.2 MB/s eta 0:00:10\n",
      "   --------------------- ------------------ 66.6/124.9 MB 6.2 MB/s eta 0:00:10\n",
      "   --------------------- ------------------ 66.9/124.9 MB 6.2 MB/s eta 0:00:10\n",
      "   --------------------- ------------------ 67.2/124.9 MB 6.2 MB/s eta 0:00:10\n",
      "   --------------------- ------------------ 67.5/124.9 MB 6.2 MB/s eta 0:00:10\n",
      "   --------------------- ------------------ 67.8/124.9 MB 6.2 MB/s eta 0:00:10\n",
      "   --------------------- ------------------ 67.9/124.9 MB 6.1 MB/s eta 0:00:10\n",
      "   --------------------- ------------------ 68.2/124.9 MB 6.1 MB/s eta 0:00:10\n",
      "   --------------------- ------------------ 68.5/124.9 MB 6.1 MB/s eta 0:00:10\n",
      "   ---------------------- ----------------- 68.8/124.9 MB 6.1 MB/s eta 0:00:10\n",
      "   ---------------------- ----------------- 69.1/124.9 MB 6.2 MB/s eta 0:00:10\n",
      "   ---------------------- ----------------- 69.4/124.9 MB 6.2 MB/s eta 0:00:09\n",
      "   ---------------------- ----------------- 69.7/124.9 MB 6.2 MB/s eta 0:00:09\n",
      "   ---------------------- ----------------- 70.1/124.9 MB 6.2 MB/s eta 0:00:09\n",
      "   ---------------------- ----------------- 70.4/124.9 MB 6.2 MB/s eta 0:00:09\n",
      "   ---------------------- ----------------- 70.7/124.9 MB 6.2 MB/s eta 0:00:09\n",
      "   ---------------------- ----------------- 71.0/124.9 MB 6.2 MB/s eta 0:00:09\n",
      "   ---------------------- ----------------- 71.2/124.9 MB 6.2 MB/s eta 0:00:09\n",
      "   ---------------------- ----------------- 71.6/124.9 MB 6.3 MB/s eta 0:00:09\n",
      "   ----------------------- ---------------- 71.9/124.9 MB 6.2 MB/s eta 0:00:09\n",
      "   ----------------------- ---------------- 72.1/124.9 MB 6.2 MB/s eta 0:00:09\n",
      "   ----------------------- ---------------- 72.4/124.9 MB 6.2 MB/s eta 0:00:09\n",
      "   ----------------------- ---------------- 72.7/124.9 MB 6.2 MB/s eta 0:00:09\n",
      "   ----------------------- ---------------- 73.0/124.9 MB 6.2 MB/s eta 0:00:09\n",
      "   ----------------------- ---------------- 73.3/124.9 MB 6.2 MB/s eta 0:00:09\n",
      "   ----------------------- ---------------- 73.6/124.9 MB 6.2 MB/s eta 0:00:09\n",
      "   ----------------------- ---------------- 73.9/124.9 MB 6.2 MB/s eta 0:00:09\n",
      "   ----------------------- ---------------- 74.2/124.9 MB 6.2 MB/s eta 0:00:09\n",
      "   ----------------------- ---------------- 74.4/124.9 MB 6.2 MB/s eta 0:00:09\n",
      "   ----------------------- ---------------- 74.7/124.9 MB 6.2 MB/s eta 0:00:09\n",
      "   ------------------------ --------------- 75.0/124.9 MB 6.2 MB/s eta 0:00:09\n",
      "   ------------------------ --------------- 75.3/124.9 MB 6.3 MB/s eta 0:00:08\n",
      "   ------------------------ --------------- 75.6/124.9 MB 6.2 MB/s eta 0:00:08\n",
      "   ------------------------ --------------- 75.9/124.9 MB 6.2 MB/s eta 0:00:08\n",
      "   ------------------------ --------------- 76.1/124.9 MB 6.2 MB/s eta 0:00:08\n",
      "   ------------------------ --------------- 76.4/124.9 MB 6.2 MB/s eta 0:00:08\n",
      "   ------------------------ --------------- 76.7/124.9 MB 6.2 MB/s eta 0:00:08\n",
      "   ------------------------ --------------- 77.0/124.9 MB 6.2 MB/s eta 0:00:08\n",
      "   ------------------------ --------------- 77.3/124.9 MB 6.2 MB/s eta 0:00:08\n",
      "   ------------------------ --------------- 77.5/124.9 MB 6.2 MB/s eta 0:00:08\n",
      "   ------------------------ --------------- 77.9/124.9 MB 6.3 MB/s eta 0:00:08\n",
      "   ------------------------- -------------- 78.1/124.9 MB 6.4 MB/s eta 0:00:08\n",
      "   ------------------------- -------------- 78.4/124.9 MB 6.4 MB/s eta 0:00:08\n",
      "   ------------------------- -------------- 78.7/124.9 MB 6.4 MB/s eta 0:00:08\n",
      "   ------------------------- -------------- 79.0/124.9 MB 6.3 MB/s eta 0:00:08\n",
      "   ------------------------- -------------- 79.3/124.9 MB 6.4 MB/s eta 0:00:08\n",
      "   ------------------------- -------------- 79.6/124.9 MB 6.3 MB/s eta 0:00:08\n",
      "   ------------------------- -------------- 79.9/124.9 MB 6.3 MB/s eta 0:00:08\n",
      "   ------------------------- -------------- 80.1/124.9 MB 6.2 MB/s eta 0:00:08\n",
      "   ------------------------- -------------- 80.4/124.9 MB 6.2 MB/s eta 0:00:08\n",
      "   ------------------------- -------------- 80.7/124.9 MB 6.2 MB/s eta 0:00:08\n",
      "   ------------------------- -------------- 81.0/124.9 MB 6.2 MB/s eta 0:00:08\n",
      "   -------------------------- ------------- 81.3/124.9 MB 6.2 MB/s eta 0:00:07\n",
      "   -------------------------- ------------- 81.6/124.9 MB 6.2 MB/s eta 0:00:07\n",
      "   -------------------------- ------------- 81.8/124.9 MB 6.2 MB/s eta 0:00:07\n",
      "   -------------------------- ------------- 82.1/124.9 MB 6.2 MB/s eta 0:00:07\n",
      "   -------------------------- ------------- 82.4/124.9 MB 6.2 MB/s eta 0:00:07\n",
      "   -------------------------- ------------- 82.7/124.9 MB 6.2 MB/s eta 0:00:07\n",
      "   -------------------------- ------------- 82.7/124.9 MB 6.2 MB/s eta 0:00:07\n",
      "   -------------------------- ------------- 83.2/124.9 MB 6.2 MB/s eta 0:00:07\n",
      "   -------------------------- ------------- 83.5/124.9 MB 6.2 MB/s eta 0:00:07\n",
      "   -------------------------- ------------- 83.8/124.9 MB 6.2 MB/s eta 0:00:07\n",
      "   -------------------------- ------------- 83.9/124.9 MB 6.2 MB/s eta 0:00:07\n",
      "   -------------------------- ------------- 84.2/124.9 MB 6.1 MB/s eta 0:00:07\n",
      "   --------------------------- ------------ 84.5/124.9 MB 6.1 MB/s eta 0:00:07\n",
      "   --------------------------- ------------ 84.7/124.9 MB 6.1 MB/s eta 0:00:07\n",
      "   --------------------------- ------------ 85.0/124.9 MB 6.1 MB/s eta 0:00:07\n",
      "   --------------------------- ------------ 85.3/124.9 MB 6.1 MB/s eta 0:00:07\n",
      "   --------------------------- ------------ 85.6/124.9 MB 6.1 MB/s eta 0:00:07\n",
      "   --------------------------- ------------ 85.9/124.9 MB 6.1 MB/s eta 0:00:07\n",
      "   --------------------------- ------------ 86.2/124.9 MB 6.1 MB/s eta 0:00:07\n",
      "   --------------------------- ------------ 86.5/124.9 MB 6.1 MB/s eta 0:00:07\n",
      "   --------------------------- ------------ 86.8/124.9 MB 6.1 MB/s eta 0:00:07\n",
      "   --------------------------- ------------ 87.1/124.9 MB 6.1 MB/s eta 0:00:07\n",
      "   --------------------------- ------------ 87.4/124.9 MB 6.2 MB/s eta 0:00:07\n",
      "   ---------------------------- ----------- 87.7/124.9 MB 6.2 MB/s eta 0:00:07\n",
      "   ---------------------------- ----------- 88.0/124.9 MB 6.2 MB/s eta 0:00:06\n",
      "   ---------------------------- ----------- 88.4/124.9 MB 6.2 MB/s eta 0:00:06\n",
      "   ---------------------------- ----------- 88.7/124.9 MB 6.2 MB/s eta 0:00:06\n",
      "   ---------------------------- ----------- 89.0/124.9 MB 6.2 MB/s eta 0:00:06\n",
      "   ---------------------------- ----------- 89.3/124.9 MB 6.2 MB/s eta 0:00:06\n",
      "   ---------------------------- ----------- 89.6/124.9 MB 6.2 MB/s eta 0:00:06\n",
      "   ---------------------------- ----------- 89.9/124.9 MB 6.2 MB/s eta 0:00:06\n",
      "   ---------------------------- ----------- 90.2/124.9 MB 6.2 MB/s eta 0:00:06\n",
      "   ---------------------------- ----------- 90.4/124.9 MB 6.2 MB/s eta 0:00:06\n",
      "   ----------------------------- ---------- 90.6/124.9 MB 6.2 MB/s eta 0:00:06\n",
      "   ----------------------------- ---------- 91.0/124.9 MB 6.2 MB/s eta 0:00:06\n",
      "   ----------------------------- ---------- 91.3/124.9 MB 6.2 MB/s eta 0:00:06\n",
      "   ----------------------------- ---------- 91.6/124.9 MB 6.2 MB/s eta 0:00:06\n",
      "   ----------------------------- ---------- 91.8/124.9 MB 6.2 MB/s eta 0:00:06\n",
      "   ----------------------------- ---------- 92.1/124.9 MB 6.2 MB/s eta 0:00:06\n",
      "   ----------------------------- ---------- 92.4/124.9 MB 6.2 MB/s eta 0:00:06\n",
      "   ----------------------------- ---------- 92.7/124.9 MB 6.2 MB/s eta 0:00:06\n",
      "   ----------------------------- ---------- 93.0/124.9 MB 6.4 MB/s eta 0:00:05\n",
      "   ----------------------------- ---------- 93.3/124.9 MB 6.2 MB/s eta 0:00:06\n",
      "   ----------------------------- ---------- 93.6/124.9 MB 6.2 MB/s eta 0:00:06\n",
      "   ------------------------------ --------- 93.9/124.9 MB 6.2 MB/s eta 0:00:05\n",
      "   ------------------------------ --------- 94.2/124.9 MB 6.2 MB/s eta 0:00:05\n",
      "   ------------------------------ --------- 94.4/124.9 MB 6.4 MB/s eta 0:00:05\n",
      "   ------------------------------ --------- 94.7/124.9 MB 6.4 MB/s eta 0:00:05\n",
      "   ------------------------------ --------- 95.0/124.9 MB 6.4 MB/s eta 0:00:05\n",
      "   ------------------------------ --------- 95.3/124.9 MB 6.4 MB/s eta 0:00:05\n",
      "   ------------------------------ --------- 95.6/124.9 MB 6.4 MB/s eta 0:00:05\n",
      "   ------------------------------ --------- 95.9/124.9 MB 6.4 MB/s eta 0:00:05\n",
      "   ------------------------------ --------- 96.2/124.9 MB 6.4 MB/s eta 0:00:05\n",
      "   ------------------------------ --------- 96.5/124.9 MB 6.4 MB/s eta 0:00:05\n",
      "   ------------------------------ --------- 96.8/124.9 MB 6.4 MB/s eta 0:00:05\n",
      "   ------------------------------- -------- 97.0/124.9 MB 6.4 MB/s eta 0:00:05\n",
      "   ------------------------------- -------- 97.3/124.9 MB 6.3 MB/s eta 0:00:05\n",
      "   ------------------------------- -------- 97.6/124.9 MB 6.3 MB/s eta 0:00:05\n",
      "   ------------------------------- -------- 97.9/124.9 MB 6.4 MB/s eta 0:00:05\n",
      "   ------------------------------- -------- 98.2/124.9 MB 6.3 MB/s eta 0:00:05\n",
      "   ------------------------------- -------- 98.5/124.9 MB 6.3 MB/s eta 0:00:05\n",
      "   ------------------------------- -------- 98.7/124.9 MB 6.2 MB/s eta 0:00:05\n",
      "   ------------------------------- -------- 99.0/124.9 MB 6.2 MB/s eta 0:00:05\n",
      "   ------------------------------- -------- 99.3/124.9 MB 6.2 MB/s eta 0:00:05\n",
      "   ------------------------------- -------- 99.6/124.9 MB 6.2 MB/s eta 0:00:05\n",
      "   ------------------------------- -------- 99.8/124.9 MB 6.2 MB/s eta 0:00:05\n",
      "   -------------------------------- ------- 100.2/124.9 MB 6.2 MB/s eta 0:00:04\n",
      "   -------------------------------- ------- 100.5/124.9 MB 6.2 MB/s eta 0:00:04\n",
      "   -------------------------------- ------- 100.8/124.9 MB 6.2 MB/s eta 0:00:04\n",
      "   -------------------------------- ------- 100.8/124.9 MB 6.2 MB/s eta 0:00:04\n",
      "   -------------------------------- ------- 101.1/124.9 MB 6.2 MB/s eta 0:00:04\n",
      "   -------------------------------- ------- 101.6/124.9 MB 6.2 MB/s eta 0:00:04\n",
      "   -------------------------------- ------- 101.9/124.9 MB 6.2 MB/s eta 0:00:04\n",
      "   -------------------------------- ------- 102.2/124.9 MB 6.2 MB/s eta 0:00:04\n",
      "   -------------------------------- ------- 102.4/124.9 MB 6.2 MB/s eta 0:00:04\n",
      "   -------------------------------- ------- 102.7/124.9 MB 6.2 MB/s eta 0:00:04\n",
      "   -------------------------------- ------- 103.0/124.9 MB 6.2 MB/s eta 0:00:04\n",
      "   --------------------------------- ------ 103.2/124.9 MB 6.2 MB/s eta 0:00:04\n",
      "   --------------------------------- ------ 103.6/124.9 MB 6.2 MB/s eta 0:00:04\n",
      "   --------------------------------- ------ 103.9/124.9 MB 6.2 MB/s eta 0:00:04\n",
      "   --------------------------------- ------ 104.1/124.9 MB 6.1 MB/s eta 0:00:04\n",
      "   --------------------------------- ------ 104.4/124.9 MB 6.1 MB/s eta 0:00:04\n",
      "   --------------------------------- ------ 104.7/124.9 MB 6.2 MB/s eta 0:00:04\n",
      "   --------------------------------- ------ 105.0/124.9 MB 6.2 MB/s eta 0:00:04\n",
      "   --------------------------------- ------ 105.3/124.9 MB 6.2 MB/s eta 0:00:04\n",
      "   --------------------------------- ------ 105.6/124.9 MB 6.2 MB/s eta 0:00:04\n",
      "   --------------------------------- ------ 105.9/124.9 MB 6.2 MB/s eta 0:00:04\n",
      "   ---------------------------------- ----- 106.2/124.9 MB 6.2 MB/s eta 0:00:03\n",
      "   ---------------------------------- ----- 106.5/124.9 MB 6.2 MB/s eta 0:00:03\n",
      "   ---------------------------------- ----- 106.7/124.9 MB 6.2 MB/s eta 0:00:03\n",
      "   ---------------------------------- ----- 107.0/124.9 MB 6.2 MB/s eta 0:00:03\n",
      "   ---------------------------------- ----- 107.2/124.9 MB 6.1 MB/s eta 0:00:03\n",
      "   ---------------------------------- ----- 107.6/124.9 MB 6.2 MB/s eta 0:00:03\n",
      "   ---------------------------------- ----- 107.9/124.9 MB 6.2 MB/s eta 0:00:03\n",
      "   ---------------------------------- ----- 108.2/124.9 MB 6.2 MB/s eta 0:00:03\n",
      "   ---------------------------------- ----- 108.5/124.9 MB 6.2 MB/s eta 0:00:03\n",
      "   ---------------------------------- ----- 108.8/124.9 MB 6.2 MB/s eta 0:00:03\n",
      "   ---------------------------------- ----- 109.0/124.9 MB 6.2 MB/s eta 0:00:03\n",
      "   ----------------------------------- ---- 109.3/124.9 MB 6.2 MB/s eta 0:00:03\n",
      "   ----------------------------------- ---- 109.5/124.9 MB 6.2 MB/s eta 0:00:03\n",
      "   ----------------------------------- ---- 109.9/124.9 MB 6.2 MB/s eta 0:00:03\n",
      "   ----------------------------------- ---- 110.2/124.9 MB 6.2 MB/s eta 0:00:03\n",
      "   ----------------------------------- ---- 110.5/124.9 MB 6.2 MB/s eta 0:00:03\n",
      "   ----------------------------------- ---- 110.8/124.9 MB 6.2 MB/s eta 0:00:03\n",
      "   ----------------------------------- ---- 111.1/124.9 MB 6.4 MB/s eta 0:00:03\n",
      "   ----------------------------------- ---- 111.3/124.9 MB 6.4 MB/s eta 0:00:03\n",
      "   ----------------------------------- ---- 111.7/124.9 MB 6.2 MB/s eta 0:00:03\n",
      "   ----------------------------------- ---- 112.0/124.9 MB 6.2 MB/s eta 0:00:03\n",
      "   ----------------------------------- ---- 112.2/124.9 MB 6.2 MB/s eta 0:00:03\n",
      "   ------------------------------------ --- 112.5/124.9 MB 6.2 MB/s eta 0:00:02\n",
      "   ------------------------------------ --- 112.8/124.9 MB 6.2 MB/s eta 0:00:02\n",
      "   ------------------------------------ --- 113.1/124.9 MB 6.2 MB/s eta 0:00:02\n",
      "   ------------------------------------ --- 113.4/124.9 MB 6.2 MB/s eta 0:00:02\n",
      "   ------------------------------------ --- 113.7/124.9 MB 6.2 MB/s eta 0:00:02\n",
      "   ------------------------------------ --- 114.0/124.9 MB 6.2 MB/s eta 0:00:02\n",
      "   ------------------------------------ --- 114.2/124.9 MB 6.3 MB/s eta 0:00:02\n",
      "   ------------------------------------ --- 114.5/124.9 MB 6.3 MB/s eta 0:00:02\n",
      "   ------------------------------------ --- 114.8/124.9 MB 6.2 MB/s eta 0:00:02\n",
      "   ------------------------------------ --- 115.1/124.9 MB 6.2 MB/s eta 0:00:02\n",
      "   ------------------------------------ --- 115.4/124.9 MB 6.3 MB/s eta 0:00:02\n",
      "   ------------------------------------- -- 115.7/124.9 MB 6.2 MB/s eta 0:00:02\n",
      "   ------------------------------------- -- 116.0/124.9 MB 6.2 MB/s eta 0:00:02\n",
      "   ------------------------------------- -- 116.2/124.9 MB 6.2 MB/s eta 0:00:02\n",
      "   ------------------------------------- -- 116.5/124.9 MB 6.2 MB/s eta 0:00:02\n",
      "   ------------------------------------- -- 116.8/124.9 MB 6.3 MB/s eta 0:00:02\n",
      "   ------------------------------------- -- 117.1/124.9 MB 6.3 MB/s eta 0:00:02\n",
      "   ------------------------------------- -- 117.4/124.9 MB 6.3 MB/s eta 0:00:02\n",
      "   ------------------------------------- -- 117.7/124.9 MB 6.3 MB/s eta 0:00:02\n",
      "   ------------------------------------- -- 118.0/124.9 MB 6.2 MB/s eta 0:00:02\n",
      "   ------------------------------------- -- 118.3/124.9 MB 6.2 MB/s eta 0:00:02\n",
      "   ------------------------------------- -- 118.5/124.9 MB 6.2 MB/s eta 0:00:02\n",
      "   -------------------------------------- - 118.8/124.9 MB 6.2 MB/s eta 0:00:01\n",
      "   -------------------------------------- - 119.1/124.9 MB 6.2 MB/s eta 0:00:01\n",
      "   -------------------------------------- - 119.2/124.9 MB 6.1 MB/s eta 0:00:01\n",
      "   -------------------------------------- - 119.6/124.9 MB 6.2 MB/s eta 0:00:01\n",
      "   -------------------------------------- - 119.9/124.9 MB 6.2 MB/s eta 0:00:01\n",
      "   -------------------------------------- - 120.1/124.9 MB 6.2 MB/s eta 0:00:01\n",
      "   -------------------------------------- - 120.4/124.9 MB 6.2 MB/s eta 0:00:01\n",
      "   -------------------------------------- - 120.6/124.9 MB 6.1 MB/s eta 0:00:01\n",
      "   -------------------------------------- - 120.9/124.9 MB 6.1 MB/s eta 0:00:01\n",
      "   -------------------------------------- - 121.2/124.9 MB 6.1 MB/s eta 0:00:01\n",
      "   -------------------------------------- - 121.5/124.9 MB 6.1 MB/s eta 0:00:01\n",
      "   -------------------------------------- - 121.8/124.9 MB 6.1 MB/s eta 0:00:01\n",
      "   ---------------------------------------  122.1/124.9 MB 6.1 MB/s eta 0:00:01\n",
      "   ---------------------------------------  122.3/124.9 MB 6.1 MB/s eta 0:00:01\n",
      "   ---------------------------------------  122.6/124.9 MB 6.1 MB/s eta 0:00:01\n",
      "   ---------------------------------------  122.9/124.9 MB 6.1 MB/s eta 0:00:01\n",
      "   ---------------------------------------  123.2/124.9 MB 6.1 MB/s eta 0:00:01\n",
      "   ---------------------------------------  123.5/124.9 MB 6.1 MB/s eta 0:00:01\n",
      "   ---------------------------------------  123.8/124.9 MB 6.1 MB/s eta 0:00:01\n",
      "   ---------------------------------------  124.1/124.9 MB 6.1 MB/s eta 0:00:01\n",
      "   ---------------------------------------  124.4/124.9 MB 6.1 MB/s eta 0:00:01\n",
      "   ---------------------------------------  124.7/124.9 MB 6.1 MB/s eta 0:00:01\n",
      "   ---------------------------------------  124.9/124.9 MB 6.1 MB/s eta 0:00:01\n",
      "   ---------------------------------------  124.9/124.9 MB 6.1 MB/s eta 0:00:01\n",
      "   ---------------------------------------  124.9/124.9 MB 6.1 MB/s eta 0:00:01\n",
      "   ---------------------------------------  124.9/124.9 MB 6.1 MB/s eta 0:00:01\n",
      "   ---------------------------------------  124.9/124.9 MB 6.1 MB/s eta 0:00:01\n",
      "   ---------------------------------------  124.9/124.9 MB 6.1 MB/s eta 0:00:01\n",
      "   ---------------------------------------- 124.9/124.9 MB 5.0 MB/s eta 0:00:00\n",
      "Installing collected packages: xgboost\n",
      "Successfully installed xgboost-2.1.1\n",
      "Note: you may need to restart the kernel to use updated packages.\n"
     ]
    },
    {
     "name": "stderr",
     "output_type": "stream",
     "text": [
      "\n",
      "[notice] A new release of pip is available: 23.2.1 -> 24.2\n",
      "[notice] To update, run: python.exe -m pip install --upgrade pip\n"
     ]
    }
   ],
   "source": [
    "pip install xgboost\n"
   ]
  },
  {
   "cell_type": "code",
   "execution_count": 214,
   "metadata": {},
   "outputs": [],
   "source": [
    "# #use ordinal encoder to convert categorical data into numerical data\n",
    "OE_C = OrdinalEncoder()\n",
    "df.status = OE_C.fit_transform(df[[\"status\"]])\n",
    "df[\"item type\"] = OE_C.fit_transform(df[[\"item type\"]])"
   ]
  },
  {
   "cell_type": "code",
   "execution_count": 215,
   "metadata": {},
   "outputs": [],
   "source": [
    "X = df[['quantity tons','selling_price','item type','application','thickness','width','country','customer','product_ref']]\n",
    "Y = df[\"status\"]"
   ]
  },
  {
   "cell_type": "code",
   "execution_count": 216,
   "metadata": {},
   "outputs": [
    {
     "data": {
      "text/plain": [
       "array([[-0.09139439,  0.09705592,  0.76978981, ..., -0.71017265,\n",
       "        -0.72507203,  1.6673573 ],\n",
       "       [ 1.52755772,  0.76054292,  0.76978981, ..., -0.83268141,\n",
       "        -0.2835426 ,  1.66443363],\n",
       "       [ 0.66147626, -0.62373848,  1.72295071, ..., -0.62850015,\n",
       "        -0.74727633, -0.66115687],\n",
       "       ...,\n",
       "       [-0.20459491, -0.71081685,  0.76978981, ..., -0.83268141,\n",
       "        -0.30327554, -0.43319041],\n",
       "       [-4.74988274, -0.77269647,  0.76978981, ..., -0.83268141,\n",
       "        -0.30327554, -0.43319041],\n",
       "       [ 0.70809988, -0.75206993,  0.76978981, ..., -0.83268141,\n",
       "        -0.30327554, -0.43319041]])"
      ]
     },
     "execution_count": 216,
     "metadata": {},
     "output_type": "execute_result"
    }
   ],
   "source": [
    "SS.fit_transform(X)"
   ]
  },
  {
   "cell_type": "code",
   "execution_count": 218,
   "metadata": {},
   "outputs": [
    {
     "name": "stdout",
     "output_type": "stream",
     "text": [
      "(105304, 9)\n",
      "(45131, 9)\n",
      "(105304,)\n",
      "(45131,)\n"
     ]
    }
   ],
   "source": [
    "X_train , X_test , y_train , y_test = train_test_split(X, Y, test_size=0.3 , random_state=5)\n",
    "print(X_train.shape)\n",
    "print(X_test.shape)\n",
    "print(y_train.shape)\n",
    "print(y_test.shape)"
   ]
  },
  {
   "cell_type": "code",
   "execution_count": 220,
   "metadata": {},
   "outputs": [
    {
     "name": "stdout",
     "output_type": "stream",
     "text": [
      "0.8093139861733647\n",
      "0.8112827103321442\n"
     ]
    }
   ],
   "source": [
    "dct = DecisionTreeClassifier(max_depth=5,random_state=1)\n",
    "dct.fit(X_train,y_train)\n",
    "print(dct.score(X_train,y_train))\n",
    "print(dct.score(X_test,y_test))"
   ]
  },
  {
   "cell_type": "code",
   "execution_count": 221,
   "metadata": {},
   "outputs": [
    {
     "name": "stdout",
     "output_type": "stream",
     "text": [
      "0.9220352503228747\n",
      "0.8905851853493164\n"
     ]
    }
   ],
   "source": [
    "knn = KNeighborsClassifier(n_neighbors= 6)\n",
    "knn.fit(X_train,y_train)\n",
    "print(knn.score(X_train,y_train))\n",
    "print(knn.score(X_test,y_test))"
   ]
  },
  {
   "cell_type": "code",
   "execution_count": 224,
   "metadata": {},
   "outputs": [
    {
     "name": "stdout",
     "output_type": "stream",
     "text": [
      "0.8192091468510218\n",
      "0.8206554253174093\n"
     ]
    }
   ],
   "source": [
    "Gbc = GradientBoostingClassifier(n_estimators=30 , learning_rate= 0.1 , random_state= 28)\n",
    "Gbc.fit(X_train,y_train)\n",
    "print(Gbc.score(X_train,y_train))\n",
    "print(Gbc.score(X_test,y_test))"
   ]
  },
  {
   "cell_type": "code",
   "execution_count": 225,
   "metadata": {},
   "outputs": [
    {
     "name": "stdout",
     "output_type": "stream",
     "text": [
      "0.7937685178150877\n",
      "0.7932020119208526\n"
     ]
    }
   ],
   "source": [
    "rfc = RandomForestClassifier(n_estimators= 20 ,max_depth= 4 ,random_state=35)\n",
    "rfc.fit(X_train,y_train)\n",
    "print(rfc.score(X_train,y_train))\n",
    "print(rfc.score(X_test,y_test))"
   ]
  },
  {
   "cell_type": "code",
   "execution_count": 226,
   "metadata": {},
   "outputs": [
    {
     "name": "stdout",
     "output_type": "stream",
     "text": [
      "0.7716895844412368\n",
      "0.7698034610356518\n"
     ]
    }
   ],
   "source": [
    "lr = LogisticRegression()\n",
    "lr.fit(X_train,y_train)\n",
    "print(lr.score(X_train,y_train))\n",
    "print(lr.score(X_test,y_test))"
   ]
  },
  {
   "cell_type": "code",
   "execution_count": 229,
   "metadata": {},
   "outputs": [
    {
     "data": {
      "text/plain": [
       "0.616447136044171"
      ]
     },
     "execution_count": 229,
     "metadata": {},
     "output_type": "execute_result"
    }
   ],
   "source": [
    "from sklearn.metrics import auc, accuracy_score, confusion_matrix, mean_squared_error\n",
    "import xgboost as xgb\n",
    "xgb_model = xgb.XGBRegressor(objective=\"reg:linear\", random_state=42)\n",
    "xgb_model.fit(X_train, y_train)\n",
    "xgb_model.score(X_train, y_train)"
   ]
  },
  {
   "cell_type": "code",
   "execution_count": 230,
   "metadata": {},
   "outputs": [],
   "source": [
    "y_predict = xgb_model.predict(X_test)"
   ]
  },
  {
   "cell_type": "code",
   "execution_count": 231,
   "metadata": {},
   "outputs": [
    {
     "name": "stdout",
     "output_type": "stream",
     "text": [
      "0.07563450737248835\n"
     ]
    }
   ],
   "source": [
    "print(metrics.mean_squared_error(y_test,y_predict))"
   ]
  },
  {
   "cell_type": "code",
   "execution_count": 232,
   "metadata": {},
   "outputs": [
    {
     "data": {
      "text/html": [
       "<style>#sk-container-id-2 {\n",
       "  /* Definition of color scheme common for light and dark mode */\n",
       "  --sklearn-color-text: black;\n",
       "  --sklearn-color-line: gray;\n",
       "  /* Definition of color scheme for unfitted estimators */\n",
       "  --sklearn-color-unfitted-level-0: #fff5e6;\n",
       "  --sklearn-color-unfitted-level-1: #f6e4d2;\n",
       "  --sklearn-color-unfitted-level-2: #ffe0b3;\n",
       "  --sklearn-color-unfitted-level-3: chocolate;\n",
       "  /* Definition of color scheme for fitted estimators */\n",
       "  --sklearn-color-fitted-level-0: #f0f8ff;\n",
       "  --sklearn-color-fitted-level-1: #d4ebff;\n",
       "  --sklearn-color-fitted-level-2: #b3dbfd;\n",
       "  --sklearn-color-fitted-level-3: cornflowerblue;\n",
       "\n",
       "  /* Specific color for light theme */\n",
       "  --sklearn-color-text-on-default-background: var(--sg-text-color, var(--theme-code-foreground, var(--jp-content-font-color1, black)));\n",
       "  --sklearn-color-background: var(--sg-background-color, var(--theme-background, var(--jp-layout-color0, white)));\n",
       "  --sklearn-color-border-box: var(--sg-text-color, var(--theme-code-foreground, var(--jp-content-font-color1, black)));\n",
       "  --sklearn-color-icon: #696969;\n",
       "\n",
       "  @media (prefers-color-scheme: dark) {\n",
       "    /* Redefinition of color scheme for dark theme */\n",
       "    --sklearn-color-text-on-default-background: var(--sg-text-color, var(--theme-code-foreground, var(--jp-content-font-color1, white)));\n",
       "    --sklearn-color-background: var(--sg-background-color, var(--theme-background, var(--jp-layout-color0, #111)));\n",
       "    --sklearn-color-border-box: var(--sg-text-color, var(--theme-code-foreground, var(--jp-content-font-color1, white)));\n",
       "    --sklearn-color-icon: #878787;\n",
       "  }\n",
       "}\n",
       "\n",
       "#sk-container-id-2 {\n",
       "  color: var(--sklearn-color-text);\n",
       "}\n",
       "\n",
       "#sk-container-id-2 pre {\n",
       "  padding: 0;\n",
       "}\n",
       "\n",
       "#sk-container-id-2 input.sk-hidden--visually {\n",
       "  border: 0;\n",
       "  clip: rect(1px 1px 1px 1px);\n",
       "  clip: rect(1px, 1px, 1px, 1px);\n",
       "  height: 1px;\n",
       "  margin: -1px;\n",
       "  overflow: hidden;\n",
       "  padding: 0;\n",
       "  position: absolute;\n",
       "  width: 1px;\n",
       "}\n",
       "\n",
       "#sk-container-id-2 div.sk-dashed-wrapped {\n",
       "  border: 1px dashed var(--sklearn-color-line);\n",
       "  margin: 0 0.4em 0.5em 0.4em;\n",
       "  box-sizing: border-box;\n",
       "  padding-bottom: 0.4em;\n",
       "  background-color: var(--sklearn-color-background);\n",
       "}\n",
       "\n",
       "#sk-container-id-2 div.sk-container {\n",
       "  /* jupyter's `normalize.less` sets `[hidden] { display: none; }`\n",
       "     but bootstrap.min.css set `[hidden] { display: none !important; }`\n",
       "     so we also need the `!important` here to be able to override the\n",
       "     default hidden behavior on the sphinx rendered scikit-learn.org.\n",
       "     See: https://github.com/scikit-learn/scikit-learn/issues/21755 */\n",
       "  display: inline-block !important;\n",
       "  position: relative;\n",
       "}\n",
       "\n",
       "#sk-container-id-2 div.sk-text-repr-fallback {\n",
       "  display: none;\n",
       "}\n",
       "\n",
       "div.sk-parallel-item,\n",
       "div.sk-serial,\n",
       "div.sk-item {\n",
       "  /* draw centered vertical line to link estimators */\n",
       "  background-image: linear-gradient(var(--sklearn-color-text-on-default-background), var(--sklearn-color-text-on-default-background));\n",
       "  background-size: 2px 100%;\n",
       "  background-repeat: no-repeat;\n",
       "  background-position: center center;\n",
       "}\n",
       "\n",
       "/* Parallel-specific style estimator block */\n",
       "\n",
       "#sk-container-id-2 div.sk-parallel-item::after {\n",
       "  content: \"\";\n",
       "  width: 100%;\n",
       "  border-bottom: 2px solid var(--sklearn-color-text-on-default-background);\n",
       "  flex-grow: 1;\n",
       "}\n",
       "\n",
       "#sk-container-id-2 div.sk-parallel {\n",
       "  display: flex;\n",
       "  align-items: stretch;\n",
       "  justify-content: center;\n",
       "  background-color: var(--sklearn-color-background);\n",
       "  position: relative;\n",
       "}\n",
       "\n",
       "#sk-container-id-2 div.sk-parallel-item {\n",
       "  display: flex;\n",
       "  flex-direction: column;\n",
       "}\n",
       "\n",
       "#sk-container-id-2 div.sk-parallel-item:first-child::after {\n",
       "  align-self: flex-end;\n",
       "  width: 50%;\n",
       "}\n",
       "\n",
       "#sk-container-id-2 div.sk-parallel-item:last-child::after {\n",
       "  align-self: flex-start;\n",
       "  width: 50%;\n",
       "}\n",
       "\n",
       "#sk-container-id-2 div.sk-parallel-item:only-child::after {\n",
       "  width: 0;\n",
       "}\n",
       "\n",
       "/* Serial-specific style estimator block */\n",
       "\n",
       "#sk-container-id-2 div.sk-serial {\n",
       "  display: flex;\n",
       "  flex-direction: column;\n",
       "  align-items: center;\n",
       "  background-color: var(--sklearn-color-background);\n",
       "  padding-right: 1em;\n",
       "  padding-left: 1em;\n",
       "}\n",
       "\n",
       "\n",
       "/* Toggleable style: style used for estimator/Pipeline/ColumnTransformer box that is\n",
       "clickable and can be expanded/collapsed.\n",
       "- Pipeline and ColumnTransformer use this feature and define the default style\n",
       "- Estimators will overwrite some part of the style using the `sk-estimator` class\n",
       "*/\n",
       "\n",
       "/* Pipeline and ColumnTransformer style (default) */\n",
       "\n",
       "#sk-container-id-2 div.sk-toggleable {\n",
       "  /* Default theme specific background. It is overwritten whether we have a\n",
       "  specific estimator or a Pipeline/ColumnTransformer */\n",
       "  background-color: var(--sklearn-color-background);\n",
       "}\n",
       "\n",
       "/* Toggleable label */\n",
       "#sk-container-id-2 label.sk-toggleable__label {\n",
       "  cursor: pointer;\n",
       "  display: block;\n",
       "  width: 100%;\n",
       "  margin-bottom: 0;\n",
       "  padding: 0.5em;\n",
       "  box-sizing: border-box;\n",
       "  text-align: center;\n",
       "}\n",
       "\n",
       "#sk-container-id-2 label.sk-toggleable__label-arrow:before {\n",
       "  /* Arrow on the left of the label */\n",
       "  content: \"▸\";\n",
       "  float: left;\n",
       "  margin-right: 0.25em;\n",
       "  color: var(--sklearn-color-icon);\n",
       "}\n",
       "\n",
       "#sk-container-id-2 label.sk-toggleable__label-arrow:hover:before {\n",
       "  color: var(--sklearn-color-text);\n",
       "}\n",
       "\n",
       "/* Toggleable content - dropdown */\n",
       "\n",
       "#sk-container-id-2 div.sk-toggleable__content {\n",
       "  max-height: 0;\n",
       "  max-width: 0;\n",
       "  overflow: hidden;\n",
       "  text-align: left;\n",
       "  /* unfitted */\n",
       "  background-color: var(--sklearn-color-unfitted-level-0);\n",
       "}\n",
       "\n",
       "#sk-container-id-2 div.sk-toggleable__content.fitted {\n",
       "  /* fitted */\n",
       "  background-color: var(--sklearn-color-fitted-level-0);\n",
       "}\n",
       "\n",
       "#sk-container-id-2 div.sk-toggleable__content pre {\n",
       "  margin: 0.2em;\n",
       "  border-radius: 0.25em;\n",
       "  color: var(--sklearn-color-text);\n",
       "  /* unfitted */\n",
       "  background-color: var(--sklearn-color-unfitted-level-0);\n",
       "}\n",
       "\n",
       "#sk-container-id-2 div.sk-toggleable__content.fitted pre {\n",
       "  /* unfitted */\n",
       "  background-color: var(--sklearn-color-fitted-level-0);\n",
       "}\n",
       "\n",
       "#sk-container-id-2 input.sk-toggleable__control:checked~div.sk-toggleable__content {\n",
       "  /* Expand drop-down */\n",
       "  max-height: 200px;\n",
       "  max-width: 100%;\n",
       "  overflow: auto;\n",
       "}\n",
       "\n",
       "#sk-container-id-2 input.sk-toggleable__control:checked~label.sk-toggleable__label-arrow:before {\n",
       "  content: \"▾\";\n",
       "}\n",
       "\n",
       "/* Pipeline/ColumnTransformer-specific style */\n",
       "\n",
       "#sk-container-id-2 div.sk-label input.sk-toggleable__control:checked~label.sk-toggleable__label {\n",
       "  color: var(--sklearn-color-text);\n",
       "  background-color: var(--sklearn-color-unfitted-level-2);\n",
       "}\n",
       "\n",
       "#sk-container-id-2 div.sk-label.fitted input.sk-toggleable__control:checked~label.sk-toggleable__label {\n",
       "  background-color: var(--sklearn-color-fitted-level-2);\n",
       "}\n",
       "\n",
       "/* Estimator-specific style */\n",
       "\n",
       "/* Colorize estimator box */\n",
       "#sk-container-id-2 div.sk-estimator input.sk-toggleable__control:checked~label.sk-toggleable__label {\n",
       "  /* unfitted */\n",
       "  background-color: var(--sklearn-color-unfitted-level-2);\n",
       "}\n",
       "\n",
       "#sk-container-id-2 div.sk-estimator.fitted input.sk-toggleable__control:checked~label.sk-toggleable__label {\n",
       "  /* fitted */\n",
       "  background-color: var(--sklearn-color-fitted-level-2);\n",
       "}\n",
       "\n",
       "#sk-container-id-2 div.sk-label label.sk-toggleable__label,\n",
       "#sk-container-id-2 div.sk-label label {\n",
       "  /* The background is the default theme color */\n",
       "  color: var(--sklearn-color-text-on-default-background);\n",
       "}\n",
       "\n",
       "/* On hover, darken the color of the background */\n",
       "#sk-container-id-2 div.sk-label:hover label.sk-toggleable__label {\n",
       "  color: var(--sklearn-color-text);\n",
       "  background-color: var(--sklearn-color-unfitted-level-2);\n",
       "}\n",
       "\n",
       "/* Label box, darken color on hover, fitted */\n",
       "#sk-container-id-2 div.sk-label.fitted:hover label.sk-toggleable__label.fitted {\n",
       "  color: var(--sklearn-color-text);\n",
       "  background-color: var(--sklearn-color-fitted-level-2);\n",
       "}\n",
       "\n",
       "/* Estimator label */\n",
       "\n",
       "#sk-container-id-2 div.sk-label label {\n",
       "  font-family: monospace;\n",
       "  font-weight: bold;\n",
       "  display: inline-block;\n",
       "  line-height: 1.2em;\n",
       "}\n",
       "\n",
       "#sk-container-id-2 div.sk-label-container {\n",
       "  text-align: center;\n",
       "}\n",
       "\n",
       "/* Estimator-specific */\n",
       "#sk-container-id-2 div.sk-estimator {\n",
       "  font-family: monospace;\n",
       "  border: 1px dotted var(--sklearn-color-border-box);\n",
       "  border-radius: 0.25em;\n",
       "  box-sizing: border-box;\n",
       "  margin-bottom: 0.5em;\n",
       "  /* unfitted */\n",
       "  background-color: var(--sklearn-color-unfitted-level-0);\n",
       "}\n",
       "\n",
       "#sk-container-id-2 div.sk-estimator.fitted {\n",
       "  /* fitted */\n",
       "  background-color: var(--sklearn-color-fitted-level-0);\n",
       "}\n",
       "\n",
       "/* on hover */\n",
       "#sk-container-id-2 div.sk-estimator:hover {\n",
       "  /* unfitted */\n",
       "  background-color: var(--sklearn-color-unfitted-level-2);\n",
       "}\n",
       "\n",
       "#sk-container-id-2 div.sk-estimator.fitted:hover {\n",
       "  /* fitted */\n",
       "  background-color: var(--sklearn-color-fitted-level-2);\n",
       "}\n",
       "\n",
       "/* Specification for estimator info (e.g. \"i\" and \"?\") */\n",
       "\n",
       "/* Common style for \"i\" and \"?\" */\n",
       "\n",
       ".sk-estimator-doc-link,\n",
       "a:link.sk-estimator-doc-link,\n",
       "a:visited.sk-estimator-doc-link {\n",
       "  float: right;\n",
       "  font-size: smaller;\n",
       "  line-height: 1em;\n",
       "  font-family: monospace;\n",
       "  background-color: var(--sklearn-color-background);\n",
       "  border-radius: 1em;\n",
       "  height: 1em;\n",
       "  width: 1em;\n",
       "  text-decoration: none !important;\n",
       "  margin-left: 1ex;\n",
       "  /* unfitted */\n",
       "  border: var(--sklearn-color-unfitted-level-1) 1pt solid;\n",
       "  color: var(--sklearn-color-unfitted-level-1);\n",
       "}\n",
       "\n",
       ".sk-estimator-doc-link.fitted,\n",
       "a:link.sk-estimator-doc-link.fitted,\n",
       "a:visited.sk-estimator-doc-link.fitted {\n",
       "  /* fitted */\n",
       "  border: var(--sklearn-color-fitted-level-1) 1pt solid;\n",
       "  color: var(--sklearn-color-fitted-level-1);\n",
       "}\n",
       "\n",
       "/* On hover */\n",
       "div.sk-estimator:hover .sk-estimator-doc-link:hover,\n",
       ".sk-estimator-doc-link:hover,\n",
       "div.sk-label-container:hover .sk-estimator-doc-link:hover,\n",
       ".sk-estimator-doc-link:hover {\n",
       "  /* unfitted */\n",
       "  background-color: var(--sklearn-color-unfitted-level-3);\n",
       "  color: var(--sklearn-color-background);\n",
       "  text-decoration: none;\n",
       "}\n",
       "\n",
       "div.sk-estimator.fitted:hover .sk-estimator-doc-link.fitted:hover,\n",
       ".sk-estimator-doc-link.fitted:hover,\n",
       "div.sk-label-container:hover .sk-estimator-doc-link.fitted:hover,\n",
       ".sk-estimator-doc-link.fitted:hover {\n",
       "  /* fitted */\n",
       "  background-color: var(--sklearn-color-fitted-level-3);\n",
       "  color: var(--sklearn-color-background);\n",
       "  text-decoration: none;\n",
       "}\n",
       "\n",
       "/* Span, style for the box shown on hovering the info icon */\n",
       ".sk-estimator-doc-link span {\n",
       "  display: none;\n",
       "  z-index: 9999;\n",
       "  position: relative;\n",
       "  font-weight: normal;\n",
       "  right: .2ex;\n",
       "  padding: .5ex;\n",
       "  margin: .5ex;\n",
       "  width: min-content;\n",
       "  min-width: 20ex;\n",
       "  max-width: 50ex;\n",
       "  color: var(--sklearn-color-text);\n",
       "  box-shadow: 2pt 2pt 4pt #999;\n",
       "  /* unfitted */\n",
       "  background: var(--sklearn-color-unfitted-level-0);\n",
       "  border: .5pt solid var(--sklearn-color-unfitted-level-3);\n",
       "}\n",
       "\n",
       ".sk-estimator-doc-link.fitted span {\n",
       "  /* fitted */\n",
       "  background: var(--sklearn-color-fitted-level-0);\n",
       "  border: var(--sklearn-color-fitted-level-3);\n",
       "}\n",
       "\n",
       ".sk-estimator-doc-link:hover span {\n",
       "  display: block;\n",
       "}\n",
       "\n",
       "/* \"?\"-specific style due to the `<a>` HTML tag */\n",
       "\n",
       "#sk-container-id-2 a.estimator_doc_link {\n",
       "  float: right;\n",
       "  font-size: 1rem;\n",
       "  line-height: 1em;\n",
       "  font-family: monospace;\n",
       "  background-color: var(--sklearn-color-background);\n",
       "  border-radius: 1rem;\n",
       "  height: 1rem;\n",
       "  width: 1rem;\n",
       "  text-decoration: none;\n",
       "  /* unfitted */\n",
       "  color: var(--sklearn-color-unfitted-level-1);\n",
       "  border: var(--sklearn-color-unfitted-level-1) 1pt solid;\n",
       "}\n",
       "\n",
       "#sk-container-id-2 a.estimator_doc_link.fitted {\n",
       "  /* fitted */\n",
       "  border: var(--sklearn-color-fitted-level-1) 1pt solid;\n",
       "  color: var(--sklearn-color-fitted-level-1);\n",
       "}\n",
       "\n",
       "/* On hover */\n",
       "#sk-container-id-2 a.estimator_doc_link:hover {\n",
       "  /* unfitted */\n",
       "  background-color: var(--sklearn-color-unfitted-level-3);\n",
       "  color: var(--sklearn-color-background);\n",
       "  text-decoration: none;\n",
       "}\n",
       "\n",
       "#sk-container-id-2 a.estimator_doc_link.fitted:hover {\n",
       "  /* fitted */\n",
       "  background-color: var(--sklearn-color-fitted-level-3);\n",
       "}\n",
       "</style><div id=\"sk-container-id-2\" class=\"sk-top-container\"><div class=\"sk-text-repr-fallback\"><pre>XGBRegressor(base_score=None, booster=None, callbacks=None,\n",
       "             colsample_bylevel=None, colsample_bynode=None,\n",
       "             colsample_bytree=None, device=None, early_stopping_rounds=None,\n",
       "             enable_categorical=False, eval_metric=None, feature_types=None,\n",
       "             gamma=None, grow_policy=None, importance_type=None,\n",
       "             interaction_constraints=None, learning_rate=None, max_bin=None,\n",
       "             max_cat_threshold=None, max_cat_to_onehot=None,\n",
       "             max_delta_step=None, max_depth=None, max_leaves=None,\n",
       "             min_child_weight=None, missing=nan, monotone_constraints=None,\n",
       "             multi_strategy=None, n_estimators=None, n_jobs=None,\n",
       "             num_parallel_tree=None, objective=&#x27;reg:linear&#x27;, ...)</pre><b>In a Jupyter environment, please rerun this cell to show the HTML representation or trust the notebook. <br />On GitHub, the HTML representation is unable to render, please try loading this page with nbviewer.org.</b></div><div class=\"sk-container\" hidden><div class=\"sk-item\"><div class=\"sk-estimator fitted sk-toggleable\"><input class=\"sk-toggleable__control sk-hidden--visually\" id=\"sk-estimator-id-2\" type=\"checkbox\" checked><label for=\"sk-estimator-id-2\" class=\"sk-toggleable__label fitted sk-toggleable__label-arrow fitted\">&nbsp;XGBRegressor<span class=\"sk-estimator-doc-link fitted\">i<span>Fitted</span></span></label><div class=\"sk-toggleable__content fitted\"><pre>XGBRegressor(base_score=None, booster=None, callbacks=None,\n",
       "             colsample_bylevel=None, colsample_bynode=None,\n",
       "             colsample_bytree=None, device=None, early_stopping_rounds=None,\n",
       "             enable_categorical=False, eval_metric=None, feature_types=None,\n",
       "             gamma=None, grow_policy=None, importance_type=None,\n",
       "             interaction_constraints=None, learning_rate=None, max_bin=None,\n",
       "             max_cat_threshold=None, max_cat_to_onehot=None,\n",
       "             max_delta_step=None, max_depth=None, max_leaves=None,\n",
       "             min_child_weight=None, missing=nan, monotone_constraints=None,\n",
       "             multi_strategy=None, n_estimators=None, n_jobs=None,\n",
       "             num_parallel_tree=None, objective=&#x27;reg:linear&#x27;, ...)</pre></div> </div></div></div></div>"
      ],
      "text/plain": [
       "XGBRegressor(base_score=None, booster=None, callbacks=None,\n",
       "             colsample_bylevel=None, colsample_bynode=None,\n",
       "             colsample_bytree=None, device=None, early_stopping_rounds=None,\n",
       "             enable_categorical=False, eval_metric=None, feature_types=None,\n",
       "             gamma=None, grow_policy=None, importance_type=None,\n",
       "             interaction_constraints=None, learning_rate=None, max_bin=None,\n",
       "             max_cat_threshold=None, max_cat_to_onehot=None,\n",
       "             max_delta_step=None, max_depth=None, max_leaves=None,\n",
       "             min_child_weight=None, missing=nan, monotone_constraints=None,\n",
       "             multi_strategy=None, n_estimators=None, n_jobs=None,\n",
       "             num_parallel_tree=None, objective='reg:linear', ...)"
      ]
     },
     "execution_count": 232,
     "metadata": {},
     "output_type": "execute_result"
    }
   ],
   "source": [
    "xgb_model"
   ]
  },
  {
   "cell_type": "code",
   "execution_count": 233,
   "metadata": {},
   "outputs": [
    {
     "name": "stdout",
     "output_type": "stream",
     "text": [
      "1.0\n",
      "0.9309565487137444\n"
     ]
    }
   ],
   "source": [
    "from sklearn.ensemble import ExtraTreesClassifier\n",
    "clf = ExtraTreesClassifier(n_estimators=20, random_state=0)\n",
    "clf.fit(X_train, y_train)\n",
    "print(clf.score(X_train, y_train))\n",
    "print(clf.score(X_test, y_test))"
   ]
  },
  {
   "cell_type": "code",
   "execution_count": 234,
   "metadata": {},
   "outputs": [
    {
     "data": {
      "text/plain": [
       "array([0., 1., 1., ..., 1., 1., 1.])"
      ]
     },
     "execution_count": 234,
     "metadata": {},
     "output_type": "execute_result"
    }
   ],
   "source": [
    "knn.predict(X_test)"
   ]
  },
  {
   "cell_type": "code",
   "execution_count": 235,
   "metadata": {},
   "outputs": [],
   "source": [
    "Y_pred = knn.predict(X_test)"
   ]
  },
  {
   "cell_type": "code",
   "execution_count": 237,
   "metadata": {},
   "outputs": [
    {
     "data": {
      "text/plain": [
       "array([[ 8209,  2180],\n",
       "       [ 2758, 31984]])"
      ]
     },
     "execution_count": 237,
     "metadata": {},
     "output_type": "execute_result"
    }
   ],
   "source": [
    "from sklearn.metrics import confusion_matrix\n",
    "cm = confusion_matrix(y_test,Y_pred)\n",
    "cm"
   ]
  },
  {
   "cell_type": "code",
   "execution_count": 242,
   "metadata": {},
   "outputs": [
    {
     "data": {
      "text/plain": [
       "Text(70.72222222222221, 0.5, 'Truth')"
      ]
     },
     "execution_count": 242,
     "metadata": {},
     "output_type": "execute_result"
    },
    {
     "data": {
      "image/png": "[encoded data removed]",
      "text/plain": [
       "<Figure size 800x500 with 2 Axes>"
      ]
     },
     "metadata": {},
     "output_type": "display_data"
    }
   ],
   "source": [
    "# heatmap\n",
    "\n",
    "plt.figure(figsize=(8,5))\n",
    "sns.heatmap(cm , annot=True)\n",
    "plt.xlabel(\"predict\")\n",
    "plt.ylabel(\"Truth\")"
   ]
  },
  {
   "cell_type": "code",
   "execution_count": 246,
   "metadata": {},
   "outputs": [],
   "source": [
    "from sklearn.metrics import accuracy_score, f1_score, ConfusionMatrixDisplay, classification_report"
   ]
  },
  {
   "cell_type": "code",
   "execution_count": 249,
   "metadata": {},
   "outputs": [
    {
     "data": {
      "text/plain": [
       "0.8905851853493164"
      ]
     },
     "execution_count": 249,
     "metadata": {},
     "output_type": "execute_result"
    }
   ],
   "source": [
    "accuracy_score(y_test,Y_pred)"
   ]
  },
  {
   "cell_type": "code",
   "execution_count": 250,
   "metadata": {},
   "outputs": [
    {
     "data": {
      "image/png": "[encoded data removed]",
      "text/plain": [
       "<Figure size 640x480 with 2 Axes>"
      ]
     },
     "metadata": {},
     "output_type": "display_data"
    }
   ],
   "source": [
    "ConfusionMatrixDisplay.from_estimator(knn, X_test, y_test)\n",
    "plt.show()"
   ]
  },
  {
   "cell_type": "code",
   "execution_count": 251,
   "metadata": {},
   "outputs": [
    {
     "name": "stdout",
     "output_type": "stream",
     "text": [
      "              precision    recall  f1-score   support\n",
      "\n",
      "         0.0       0.75      0.79      0.77     10389\n",
      "         1.0       0.94      0.92      0.93     34742\n",
      "\n",
      "    accuracy                           0.89     45131\n",
      "   macro avg       0.84      0.86      0.85     45131\n",
      "weighted avg       0.89      0.89      0.89     45131\n",
      "\n"
     ]
    }
   ],
   "source": [
    "print(classification_report(y_test,Y_pred))"
   ]
  },
  {
   "cell_type": "code",
   "execution_count": 252,
   "metadata": {},
   "outputs": [],
   "source": [
    "import pickle\n",
    "\n",
    "# Saving the model\n",
    "import pickle\n",
    "with open('c_model.pkl', 'wb') as file:\n",
    "    pickle.dump(knn, file)\n",
    "with open('c_scaler.pkl', 'wb') as f:\n",
    "    pickle.dump(SS, f)\n",
    "with open('c_encode.pkl', 'wb') as f:\n",
    "    pickle.dump(OE_C, f)\n"
   ]
  },
  {
   "cell_type": "code",
   "execution_count": null,
   "metadata": {},
   "outputs": [],
   "source": []
  }
 ],
 "metadata": {
  "kernelspec": {
   "display_name": ".venv",
   "language": "python",
   "name": "python3"
  },
  "language_info": {
   "codemirror_mode": {
    "name": "ipython",
    "version": 3
   },
   "file_extension": ".py",
   "mimetype": "text/x-python",
   "name": "python",
   "nbconvert_exporter": "python",
   "pygments_lexer": "ipython3",
   "version": "3.12.6"
  }
 },
 "nbformat": 4,
 "nbformat_minor": 2
}
